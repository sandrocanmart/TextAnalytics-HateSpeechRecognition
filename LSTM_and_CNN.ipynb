{
  "cells": [
    {
      "cell_type": "code",
      "execution_count": 1,
      "metadata": {
        "colab": {
          "base_uri": "https://localhost:8080/"
        },
        "id": "QdRX5TzGQoA5",
        "outputId": "4c7dca59-7d16-470c-c20a-cf00d0c76326"
      },
      "outputs": [
        {
          "output_type": "stream",
          "name": "stdout",
          "text": [
            "Requirement already satisfied: keras in /usr/local/lib/python3.10/dist-packages (2.14.0)\n",
            "Requirement already satisfied: tensorflow in /usr/local/lib/python3.10/dist-packages (2.14.0)\n",
            "Requirement already satisfied: absl-py>=1.0.0 in /usr/local/lib/python3.10/dist-packages (from tensorflow) (1.4.0)\n",
            "Requirement already satisfied: astunparse>=1.6.0 in /usr/local/lib/python3.10/dist-packages (from tensorflow) (1.6.3)\n",
            "Requirement already satisfied: flatbuffers>=23.5.26 in /usr/local/lib/python3.10/dist-packages (from tensorflow) (23.5.26)\n",
            "Requirement already satisfied: gast!=0.5.0,!=0.5.1,!=0.5.2,>=0.2.1 in /usr/local/lib/python3.10/dist-packages (from tensorflow) (0.5.4)\n",
            "Requirement already satisfied: google-pasta>=0.1.1 in /usr/local/lib/python3.10/dist-packages (from tensorflow) (0.2.0)\n",
            "Requirement already satisfied: h5py>=2.9.0 in /usr/local/lib/python3.10/dist-packages (from tensorflow) (3.9.0)\n",
            "Requirement already satisfied: libclang>=13.0.0 in /usr/local/lib/python3.10/dist-packages (from tensorflow) (16.0.6)\n",
            "Requirement already satisfied: ml-dtypes==0.2.0 in /usr/local/lib/python3.10/dist-packages (from tensorflow) (0.2.0)\n",
            "Requirement already satisfied: numpy>=1.23.5 in /usr/local/lib/python3.10/dist-packages (from tensorflow) (1.23.5)\n",
            "Requirement already satisfied: opt-einsum>=2.3.2 in /usr/local/lib/python3.10/dist-packages (from tensorflow) (3.3.0)\n",
            "Requirement already satisfied: packaging in /usr/local/lib/python3.10/dist-packages (from tensorflow) (23.2)\n",
            "Requirement already satisfied: protobuf!=4.21.0,!=4.21.1,!=4.21.2,!=4.21.3,!=4.21.4,!=4.21.5,<5.0.0dev,>=3.20.3 in /usr/local/lib/python3.10/dist-packages (from tensorflow) (3.20.3)\n",
            "Requirement already satisfied: setuptools in /usr/local/lib/python3.10/dist-packages (from tensorflow) (67.7.2)\n",
            "Requirement already satisfied: six>=1.12.0 in /usr/local/lib/python3.10/dist-packages (from tensorflow) (1.16.0)\n",
            "Requirement already satisfied: termcolor>=1.1.0 in /usr/local/lib/python3.10/dist-packages (from tensorflow) (2.4.0)\n",
            "Requirement already satisfied: typing-extensions>=3.6.6 in /usr/local/lib/python3.10/dist-packages (from tensorflow) (4.5.0)\n",
            "Requirement already satisfied: wrapt<1.15,>=1.11.0 in /usr/local/lib/python3.10/dist-packages (from tensorflow) (1.14.1)\n",
            "Requirement already satisfied: tensorflow-io-gcs-filesystem>=0.23.1 in /usr/local/lib/python3.10/dist-packages (from tensorflow) (0.34.0)\n",
            "Requirement already satisfied: grpcio<2.0,>=1.24.3 in /usr/local/lib/python3.10/dist-packages (from tensorflow) (1.59.3)\n",
            "Requirement already satisfied: tensorboard<2.15,>=2.14 in /usr/local/lib/python3.10/dist-packages (from tensorflow) (2.14.1)\n",
            "Requirement already satisfied: tensorflow-estimator<2.15,>=2.14.0 in /usr/local/lib/python3.10/dist-packages (from tensorflow) (2.14.0)\n",
            "Requirement already satisfied: keras<2.15,>=2.14.0 in /usr/local/lib/python3.10/dist-packages (from tensorflow) (2.14.0)\n",
            "Requirement already satisfied: wheel<1.0,>=0.23.0 in /usr/local/lib/python3.10/dist-packages (from astunparse>=1.6.0->tensorflow) (0.42.0)\n",
            "Requirement already satisfied: google-auth<3,>=1.6.3 in /usr/local/lib/python3.10/dist-packages (from tensorboard<2.15,>=2.14->tensorflow) (2.17.3)\n",
            "Requirement already satisfied: google-auth-oauthlib<1.1,>=0.5 in /usr/local/lib/python3.10/dist-packages (from tensorboard<2.15,>=2.14->tensorflow) (1.0.0)\n",
            "Requirement already satisfied: markdown>=2.6.8 in /usr/local/lib/python3.10/dist-packages (from tensorboard<2.15,>=2.14->tensorflow) (3.5.1)\n",
            "Requirement already satisfied: requests<3,>=2.21.0 in /usr/local/lib/python3.10/dist-packages (from tensorboard<2.15,>=2.14->tensorflow) (2.31.0)\n",
            "Requirement already satisfied: tensorboard-data-server<0.8.0,>=0.7.0 in /usr/local/lib/python3.10/dist-packages (from tensorboard<2.15,>=2.14->tensorflow) (0.7.2)\n",
            "Requirement already satisfied: werkzeug>=1.0.1 in /usr/local/lib/python3.10/dist-packages (from tensorboard<2.15,>=2.14->tensorflow) (3.0.1)\n",
            "Requirement already satisfied: cachetools<6.0,>=2.0.0 in /usr/local/lib/python3.10/dist-packages (from google-auth<3,>=1.6.3->tensorboard<2.15,>=2.14->tensorflow) (5.3.2)\n",
            "Requirement already satisfied: pyasn1-modules>=0.2.1 in /usr/local/lib/python3.10/dist-packages (from google-auth<3,>=1.6.3->tensorboard<2.15,>=2.14->tensorflow) (0.3.0)\n",
            "Requirement already satisfied: rsa<5,>=3.1.4 in /usr/local/lib/python3.10/dist-packages (from google-auth<3,>=1.6.3->tensorboard<2.15,>=2.14->tensorflow) (4.9)\n",
            "Requirement already satisfied: requests-oauthlib>=0.7.0 in /usr/local/lib/python3.10/dist-packages (from google-auth-oauthlib<1.1,>=0.5->tensorboard<2.15,>=2.14->tensorflow) (1.3.1)\n",
            "Requirement already satisfied: charset-normalizer<4,>=2 in /usr/local/lib/python3.10/dist-packages (from requests<3,>=2.21.0->tensorboard<2.15,>=2.14->tensorflow) (3.3.2)\n",
            "Requirement already satisfied: idna<4,>=2.5 in /usr/local/lib/python3.10/dist-packages (from requests<3,>=2.21.0->tensorboard<2.15,>=2.14->tensorflow) (3.6)\n",
            "Requirement already satisfied: urllib3<3,>=1.21.1 in /usr/local/lib/python3.10/dist-packages (from requests<3,>=2.21.0->tensorboard<2.15,>=2.14->tensorflow) (2.0.7)\n",
            "Requirement already satisfied: certifi>=2017.4.17 in /usr/local/lib/python3.10/dist-packages (from requests<3,>=2.21.0->tensorboard<2.15,>=2.14->tensorflow) (2023.11.17)\n",
            "Requirement already satisfied: MarkupSafe>=2.1.1 in /usr/local/lib/python3.10/dist-packages (from werkzeug>=1.0.1->tensorboard<2.15,>=2.14->tensorflow) (2.1.3)\n",
            "Requirement already satisfied: pyasn1<0.6.0,>=0.4.6 in /usr/local/lib/python3.10/dist-packages (from pyasn1-modules>=0.2.1->google-auth<3,>=1.6.3->tensorboard<2.15,>=2.14->tensorflow) (0.5.1)\n",
            "Requirement already satisfied: oauthlib>=3.0.0 in /usr/local/lib/python3.10/dist-packages (from requests-oauthlib>=0.7.0->google-auth-oauthlib<1.1,>=0.5->tensorboard<2.15,>=2.14->tensorflow) (3.2.2)\n"
          ]
        }
      ],
      "source": [
        "!pip install keras\n",
        "!pip install tensorflow"
      ]
    },
    {
      "cell_type": "markdown",
      "metadata": {
        "id": "5ra-MHQI6tV3"
      },
      "source": [
        "## UTILITIES"
      ]
    },
    {
      "cell_type": "code",
      "execution_count": 2,
      "metadata": {
        "id": "dNS8smhWP8FR"
      },
      "outputs": [],
      "source": [
        "from keras.preprocessing import sequence\n",
        "from keras.models import Sequential\n",
        "from keras.layers import Dense, Embedding\n",
        "from keras.layers import LSTM\n",
        "from keras.datasets import imdb\n",
        "from keras.utils import pad_sequences\n",
        "import pandas as pd\n",
        "import matplotlib.pyplot as plt\n",
        "import seaborn as sns\n",
        "import numpy as np\n",
        "from gensim.models.doc2vec import TaggedDocument\n",
        "import re\n",
        "import csv\n",
        "from sklearn.model_selection import train_test_split\n",
        "from tensorflow.keras.preprocessing.text import Tokenizer\n",
        "from keras.preprocessing import sequence\n",
        "from keras.models import Sequential\n",
        "from keras.layers import Dense, Embedding\n",
        "from keras.layers import LSTM\n",
        "from keras.datasets import imdb\n",
        "from keras.utils import pad_sequences\n",
        "from keras.regularizers import l2\n"
      ]
    },
    {
      "cell_type": "code",
      "execution_count": 2,
      "metadata": {
        "id": "DK2hCcL_Wmfp"
      },
      "outputs": [],
      "source": [
        "import pandas as pd\n",
        "import numpy as np\n",
        "import nltk\n",
        "import string\n",
        "import re\n",
        "from nltk.tokenize import word_tokenize\n",
        "from collections import Counter, OrderedDict\n",
        "from nltk.corpus import stopwords\n",
        "from nltk.tokenize import word_tokenize\n",
        "from nltk.stem import WordNetLemmatizer\n",
        "from nltk.tokenize import word_tokenize\n",
        "from nltk.sentiment.vader import SentimentIntensityAnalyzer\n",
        "from textblob import TextBlob\n",
        "from sklearn.metrics import confusion_matrix, accuracy_score, precision_score, recall_score, f1_score\n",
        "from sklearn.preprocessing import LabelEncoder\n",
        "#from flair.models import TextClassifier\n",
        "#from flair.data import Sentence\n",
        "from sklearn.model_selection import train_test_split\n",
        "from sklearn.feature_extraction.text import TfidfTransformer, CountVectorizer\n",
        "from sklearn.svm import LinearSVC\n",
        "from sklearn.metrics import classification_report\n",
        "from sklearn.feature_selection import SelectKBest, chi2\n",
        "from sklearn.feature_extraction.text import TfidfVectorizer\n",
        "import matplotlib.pyplot as plt\n",
        "from keras.preprocessing import sequence\n",
        "from tensorflow.keras.utils import to_categorical\n",
        "from tensorflow.keras.layers import Embedding\n",
        "from tensorflow.keras.models import Sequential\n",
        "from tensorflow.keras.layers import Dense\n",
        "from tensorflow.keras.layers import Flatten\n",
        "from tensorflow.keras.layers import LSTM\n",
        "from tensorflow.keras.layers import GRU\n",
        "from tensorflow.keras.layers import BatchNormalization\n",
        "from keras.layers import Conv1D, GlobalMaxPooling1D\n",
        "from sklearn.datasets import load_digits\n",
        "from sklearn.feature_selection import SelectKBest, chi2\n",
        "from tensorflow.keras.preprocessing.text import Tokenizer\n",
        "from tensorflow.keras.preprocessing.text import text_to_word_sequence\n",
        "from tensorflow.keras.preprocessing.sequence import pad_sequences\n",
        "from tensorflow.keras.layers import SpatialDropout1D\n",
        "from keras import backend as K\n",
        "from tensorflow.keras import models\n",
        "from keras.layers import Bidirectional\n",
        "from keras.layers import Dropout"
      ]
    },
    {
      "cell_type": "code",
      "execution_count": 3,
      "metadata": {
        "id": "_2sR8iz-QviC"
      },
      "outputs": [],
      "source": [
        "df=pd.read_csv(\"df_preprocessed.csv\")"
      ]
    },
    {
      "cell_type": "code",
      "execution_count": 4,
      "metadata": {
        "colab": {
          "base_uri": "https://localhost:8080/",
          "height": 930
        },
        "id": "uSiss46E3-XR",
        "outputId": "e8370d35-7900-4362-da91-b73d66dfc087"
      },
      "outputs": [
        {
          "output_type": "execute_result",
          "data": {
            "text/plain": [
              "                                                  tweet  is_hate_speech  \\\n",
              "0     @unknown Con tutte le denunce che si sta becca...               1   \n",
              "1     #PRESCRIZIONE : I (t)re magi hanno trovato l’a...               0   \n",
              "2     Il #m5s ha votato contro le #unionicivili addu...               1   \n",
              "3     La #Lega e il #m5s stanno dando a bere all'opi...               0   \n",
              "4     Che cosa cambia questa #legge? Caro @667517147...               0   \n",
              "...                                                 ...             ...   \n",
              "9917  @306266219847013 Esatto brava , ti dico di piu...               0   \n",
              "9918  @527727106662135 Togliere la parola non vaccin...               0   \n",
              "9919  @298046772245367 @232578747771124 Lo sai o no ...               0   \n",
              "9920  Berlino - Memoriale per gli ebrei assassinati ...               0   \n",
              "9921  @803834964246501 @248986882362719 Solo un tero...               0   \n",
              "\n",
              "      dataset  retweet_count  favorite_count  is_reply  is_quote  \\\n",
              "0           0            0.0             6.0       1.0       0.0   \n",
              "1           0          154.0           448.0       0.0       0.0   \n",
              "2           0          195.0           638.0       0.0       0.0   \n",
              "3           0          112.0           377.0       0.0       0.0   \n",
              "4           0           45.0           143.0       0.0       0.0   \n",
              "...       ...            ...             ...       ...       ...   \n",
              "9917        1            0.0             0.0       1.0       0.0   \n",
              "9918        1            0.0             0.0       1.0       0.0   \n",
              "9919        1            0.0             0.0       1.0       0.0   \n",
              "9920        1            4.0            55.0       0.0       0.0   \n",
              "9921        1            0.0             0.0       1.0       0.0   \n",
              "\n",
              "      statuses_count  followers_count  friends_count  ... Hash_words_ad  \\\n",
              "0              554.0            748.0          753.0  ...   No hashtags   \n",
              "1            35043.0          10838.0         4535.0  ...   No hashtags   \n",
              "2           139750.0           7971.0         1866.0  ...   No hashtags   \n",
              "3             3356.0           8493.0         5303.0  ...   No hashtags   \n",
              "4            11234.0          10815.0         1810.0  ...   No hashtags   \n",
              "...              ...              ...            ...  ...           ...   \n",
              "9917         10922.0            373.0          491.0  ...   No hashtags   \n",
              "9918           721.0             31.0          169.0  ...   No hashtags   \n",
              "9919           116.0              9.0           30.0  ...   No hashtags   \n",
              "9920          5672.0           2544.0         2501.0  ...   No hashtags   \n",
              "9921           784.0             10.0            8.0  ...   No hashtags   \n",
              "\n",
              "                                            clean_tweet  \\\n",
              "0     Con tutte le denunce che si sta beccando Salvi...   \n",
              "1     PRESCRIZIONE I tre magi hanno trovato laccordo...   \n",
              "2     Il m5s ha votato contro le unionicivili adduce...   \n",
              "3     La Lega e il m5s stanno dando a bere all'opini...   \n",
              "4     Che cosa cambia questa legge Caro con il decre...   \n",
              "...                                                 ...   \n",
              "9917  Esatto brava ti dico di piu i nazisti nel cerc...   \n",
              "9918  Togliere la parola non vaccinati e mettere ebr...   \n",
              "9919  Lo sai o no che i musulmani riconoscono Cristo...   \n",
              "9920  Berlino Memoriale per gli ebrei assassinati dE...   \n",
              "9921  Solo un terone dal culetto olivastro bruciato ...   \n",
              "\n",
              "                           clean_anonymized_description tweet_len word_count  \\\n",
              "0     Avete presente quegli stereotipi sui siciliani...       119         20   \n",
              "1     Prof di latino e Deputata PDAma lo sport la Ro...       254         46   \n",
              "2     Medico appassionato di Cinema d'Autore Musica ...       256         41   \n",
              "3                                         nodescription       247         39   \n",
              "4     Veneto Assessore Regionale Sviluppo Economico ...       192         31   \n",
              "...                                                 ...       ...        ...   \n",
              "9917  Il Covid e le guerre sono il braccio armato de...       216         38   \n",
              "9918  Galileo Copernico Giordano Bruno furono consid...        57         10   \n",
              "9919                                      nodescription       116         20   \n",
              "9920  Se pensi di non farcela riordina l'armadio Ten...        66         10   \n",
              "9921                                      nodescription       253         43   \n",
              "\n",
              "                                         tokenized_text  \\\n",
              "0     ['denunce', 'beccando', 'Salvini', 'rischia', ...   \n",
              "1     ['PRESCRIZIONE', 'tre', 'magi', 'trovato', 'la...   \n",
              "2     ['m5s', 'votato', 'unionicivili', 'adducendo',...   \n",
              "3     ['Lega', 'm5s', 'dando', 'bere', \"all'opinione...   \n",
              "4     ['cambia', 'legge', 'Caro', 'decretoinsicurezz...   \n",
              "...                                                 ...   \n",
              "9917  ['Esatto', 'brava', 'dico', 'piu', 'nazisti', ...   \n",
              "9918  ['Togliere', 'parola', 'vaccinati', 'mettere',...   \n",
              "9919  ['sai', 'musulmani', 'riconoscono', 'Cristo', ...   \n",
              "9920  ['Berlino', 'Memoriale', 'ebrei', 'assassinati...   \n",
              "9921  ['terone', 'culetto', 'olivastro', 'bruciato',...   \n",
              "\n",
              "                                               pos_tags  \\\n",
              "0     [('denunce', 'NOUN'), ('beccando', 'VERB'), ('...   \n",
              "1     [('PRESCRIZIONE', 'VERB'), ('tre', 'NUM'), ('m...   \n",
              "2     [('m5s', 'NOUN'), ('votato', 'VERB'), ('unioni...   \n",
              "3     [('Lega', 'VERB'), ('m5s', 'PROPN'), ('dando',...   \n",
              "4     [('cambia', 'VERB'), ('legge', 'NOUN'), ('Caro...   \n",
              "...                                                 ...   \n",
              "9917  [('Esatto', 'NOUN'), ('brava', 'ADJ'), ('dico'...   \n",
              "9918  [('Togliere', 'VERB'), ('parola', 'NOUN'), ('v...   \n",
              "9919  [('sai', 'VERB'), ('musulmani', 'NOUN'), ('ric...   \n",
              "9920  [('Berlino', 'PROPN'), ('Memoriale', 'PROPN'),...   \n",
              "9921  [('terone', 'NOUN'), ('culetto', 'VERB'), ('ol...   \n",
              "\n",
              "                                        lemmatized_text  \\\n",
              "0     ['denuncia', 'beccare', 'Salvini', 'rischiare'...   \n",
              "1     ['PRESCRIZIONE', 'tre', 'mago', 'trovare', 'la...   \n",
              "2     ['m5s', 'votare', 'unionicivile', 'adducere', ...   \n",
              "3     ['lega', 'm5s', 'dare', 'bere', 'a il', 'opini...   \n",
              "4     ['cambiare', 'legge', 'Caro', 'decretoinsicure...   \n",
              "...                                                 ...   \n",
              "9917  ['esatto', 'bravo', 'dico', 'piu', 'nazista', ...   \n",
              "9918  ['Togliere', 'parola', 'vaccinare', 'mettere',...   \n",
              "9919  ['sai', 'musulmano', 'riconoscere', 'Cristo', ...   \n",
              "9920  ['Berlino', 'Memoriale', 'ebreo', 'assassinare...   \n",
              "9921  ['terone', 'culetto', 'olivastro', 'bruciato',...   \n",
              "\n",
              "                                           stemmed_text swear_word_bin  \n",
              "0     ['denunc', 'becc', 'salvin', 'risc', 'aument',...              0  \n",
              "1     ['prescrizion', 'tre', 'mag', 'trov', 'laccord...              0  \n",
              "2     ['m5s', 'vot', 'unionicivil', 'adduc', 'scus',...              1  \n",
              "3     ['leg', 'm5s', 'dand', 'ber', \"all'opinion\", '...              0  \n",
              "4     ['camb', 'legg', 'car', 'decretoinsicurezz', '...              0  \n",
              "...                                                 ...            ...  \n",
              "9917  ['esatt', 'brav', 'dic', 'piu', 'nazist', 'cer...              0  \n",
              "9918  ['togl', 'parol', 'vaccin', 'mett', 'ebre', 'u...              0  \n",
              "9919  ['sai', 'musulman', 'riconosc', 'crist', 'prof...              0  \n",
              "9920  ['berlin', 'memorial', 'ebre', 'assassin', 'de...              0  \n",
              "9921  ['teron', 'culett', 'olivastr', 'bruc', 'port'...              0  \n",
              "\n",
              "[9922 rows x 24 columns]"
            ],
            "text/html": [
              "\n",
              "  <div id=\"df-7dd39f28-9586-4119-bb53-74ebd6daafc0\" class=\"colab-df-container\">\n",
              "    <div>\n",
              "<style scoped>\n",
              "    .dataframe tbody tr th:only-of-type {\n",
              "        vertical-align: middle;\n",
              "    }\n",
              "\n",
              "    .dataframe tbody tr th {\n",
              "        vertical-align: top;\n",
              "    }\n",
              "\n",
              "    .dataframe thead th {\n",
              "        text-align: right;\n",
              "    }\n",
              "</style>\n",
              "<table border=\"1\" class=\"dataframe\">\n",
              "  <thead>\n",
              "    <tr style=\"text-align: right;\">\n",
              "      <th></th>\n",
              "      <th>tweet</th>\n",
              "      <th>is_hate_speech</th>\n",
              "      <th>dataset</th>\n",
              "      <th>retweet_count</th>\n",
              "      <th>favorite_count</th>\n",
              "      <th>is_reply</th>\n",
              "      <th>is_quote</th>\n",
              "      <th>statuses_count</th>\n",
              "      <th>followers_count</th>\n",
              "      <th>friends_count</th>\n",
              "      <th>...</th>\n",
              "      <th>Hash_words_ad</th>\n",
              "      <th>clean_tweet</th>\n",
              "      <th>clean_anonymized_description</th>\n",
              "      <th>tweet_len</th>\n",
              "      <th>word_count</th>\n",
              "      <th>tokenized_text</th>\n",
              "      <th>pos_tags</th>\n",
              "      <th>lemmatized_text</th>\n",
              "      <th>stemmed_text</th>\n",
              "      <th>swear_word_bin</th>\n",
              "    </tr>\n",
              "  </thead>\n",
              "  <tbody>\n",
              "    <tr>\n",
              "      <th>0</th>\n",
              "      <td>@unknown Con tutte le denunce che si sta becca...</td>\n",
              "      <td>1</td>\n",
              "      <td>0</td>\n",
              "      <td>0.0</td>\n",
              "      <td>6.0</td>\n",
              "      <td>1.0</td>\n",
              "      <td>0.0</td>\n",
              "      <td>554.0</td>\n",
              "      <td>748.0</td>\n",
              "      <td>753.0</td>\n",
              "      <td>...</td>\n",
              "      <td>No hashtags</td>\n",
              "      <td>Con tutte le denunce che si sta beccando Salvi...</td>\n",
              "      <td>Avete presente quegli stereotipi sui siciliani...</td>\n",
              "      <td>119</td>\n",
              "      <td>20</td>\n",
              "      <td>['denunce', 'beccando', 'Salvini', 'rischia', ...</td>\n",
              "      <td>[('denunce', 'NOUN'), ('beccando', 'VERB'), ('...</td>\n",
              "      <td>['denuncia', 'beccare', 'Salvini', 'rischiare'...</td>\n",
              "      <td>['denunc', 'becc', 'salvin', 'risc', 'aument',...</td>\n",
              "      <td>0</td>\n",
              "    </tr>\n",
              "    <tr>\n",
              "      <th>1</th>\n",
              "      <td>#PRESCRIZIONE : I (t)re magi hanno trovato l’a...</td>\n",
              "      <td>0</td>\n",
              "      <td>0</td>\n",
              "      <td>154.0</td>\n",
              "      <td>448.0</td>\n",
              "      <td>0.0</td>\n",
              "      <td>0.0</td>\n",
              "      <td>35043.0</td>\n",
              "      <td>10838.0</td>\n",
              "      <td>4535.0</td>\n",
              "      <td>...</td>\n",
              "      <td>No hashtags</td>\n",
              "      <td>PRESCRIZIONE I tre magi hanno trovato laccordo...</td>\n",
              "      <td>Prof di latino e Deputata PDAma lo sport la Ro...</td>\n",
              "      <td>254</td>\n",
              "      <td>46</td>\n",
              "      <td>['PRESCRIZIONE', 'tre', 'magi', 'trovato', 'la...</td>\n",
              "      <td>[('PRESCRIZIONE', 'VERB'), ('tre', 'NUM'), ('m...</td>\n",
              "      <td>['PRESCRIZIONE', 'tre', 'mago', 'trovare', 'la...</td>\n",
              "      <td>['prescrizion', 'tre', 'mag', 'trov', 'laccord...</td>\n",
              "      <td>0</td>\n",
              "    </tr>\n",
              "    <tr>\n",
              "      <th>2</th>\n",
              "      <td>Il #m5s ha votato contro le #unionicivili addu...</td>\n",
              "      <td>1</td>\n",
              "      <td>0</td>\n",
              "      <td>195.0</td>\n",
              "      <td>638.0</td>\n",
              "      <td>0.0</td>\n",
              "      <td>0.0</td>\n",
              "      <td>139750.0</td>\n",
              "      <td>7971.0</td>\n",
              "      <td>1866.0</td>\n",
              "      <td>...</td>\n",
              "      <td>No hashtags</td>\n",
              "      <td>Il m5s ha votato contro le unionicivili adduce...</td>\n",
              "      <td>Medico appassionato di Cinema d'Autore Musica ...</td>\n",
              "      <td>256</td>\n",
              "      <td>41</td>\n",
              "      <td>['m5s', 'votato', 'unionicivili', 'adducendo',...</td>\n",
              "      <td>[('m5s', 'NOUN'), ('votato', 'VERB'), ('unioni...</td>\n",
              "      <td>['m5s', 'votare', 'unionicivile', 'adducere', ...</td>\n",
              "      <td>['m5s', 'vot', 'unionicivil', 'adduc', 'scus',...</td>\n",
              "      <td>1</td>\n",
              "    </tr>\n",
              "    <tr>\n",
              "      <th>3</th>\n",
              "      <td>La #Lega e il #m5s stanno dando a bere all'opi...</td>\n",
              "      <td>0</td>\n",
              "      <td>0</td>\n",
              "      <td>112.0</td>\n",
              "      <td>377.0</td>\n",
              "      <td>0.0</td>\n",
              "      <td>0.0</td>\n",
              "      <td>3356.0</td>\n",
              "      <td>8493.0</td>\n",
              "      <td>5303.0</td>\n",
              "      <td>...</td>\n",
              "      <td>No hashtags</td>\n",
              "      <td>La Lega e il m5s stanno dando a bere all'opini...</td>\n",
              "      <td>nodescription</td>\n",
              "      <td>247</td>\n",
              "      <td>39</td>\n",
              "      <td>['Lega', 'm5s', 'dando', 'bere', \"all'opinione...</td>\n",
              "      <td>[('Lega', 'VERB'), ('m5s', 'PROPN'), ('dando',...</td>\n",
              "      <td>['lega', 'm5s', 'dare', 'bere', 'a il', 'opini...</td>\n",
              "      <td>['leg', 'm5s', 'dand', 'ber', \"all'opinion\", '...</td>\n",
              "      <td>0</td>\n",
              "    </tr>\n",
              "    <tr>\n",
              "      <th>4</th>\n",
              "      <td>Che cosa cambia questa #legge? Caro @667517147...</td>\n",
              "      <td>0</td>\n",
              "      <td>0</td>\n",
              "      <td>45.0</td>\n",
              "      <td>143.0</td>\n",
              "      <td>0.0</td>\n",
              "      <td>0.0</td>\n",
              "      <td>11234.0</td>\n",
              "      <td>10815.0</td>\n",
              "      <td>1810.0</td>\n",
              "      <td>...</td>\n",
              "      <td>No hashtags</td>\n",
              "      <td>Che cosa cambia questa legge Caro con il decre...</td>\n",
              "      <td>Veneto Assessore Regionale Sviluppo Economico ...</td>\n",
              "      <td>192</td>\n",
              "      <td>31</td>\n",
              "      <td>['cambia', 'legge', 'Caro', 'decretoinsicurezz...</td>\n",
              "      <td>[('cambia', 'VERB'), ('legge', 'NOUN'), ('Caro...</td>\n",
              "      <td>['cambiare', 'legge', 'Caro', 'decretoinsicure...</td>\n",
              "      <td>['camb', 'legg', 'car', 'decretoinsicurezz', '...</td>\n",
              "      <td>0</td>\n",
              "    </tr>\n",
              "    <tr>\n",
              "      <th>...</th>\n",
              "      <td>...</td>\n",
              "      <td>...</td>\n",
              "      <td>...</td>\n",
              "      <td>...</td>\n",
              "      <td>...</td>\n",
              "      <td>...</td>\n",
              "      <td>...</td>\n",
              "      <td>...</td>\n",
              "      <td>...</td>\n",
              "      <td>...</td>\n",
              "      <td>...</td>\n",
              "      <td>...</td>\n",
              "      <td>...</td>\n",
              "      <td>...</td>\n",
              "      <td>...</td>\n",
              "      <td>...</td>\n",
              "      <td>...</td>\n",
              "      <td>...</td>\n",
              "      <td>...</td>\n",
              "      <td>...</td>\n",
              "      <td>...</td>\n",
              "    </tr>\n",
              "    <tr>\n",
              "      <th>9917</th>\n",
              "      <td>@306266219847013 Esatto brava , ti dico di piu...</td>\n",
              "      <td>0</td>\n",
              "      <td>1</td>\n",
              "      <td>0.0</td>\n",
              "      <td>0.0</td>\n",
              "      <td>1.0</td>\n",
              "      <td>0.0</td>\n",
              "      <td>10922.0</td>\n",
              "      <td>373.0</td>\n",
              "      <td>491.0</td>\n",
              "      <td>...</td>\n",
              "      <td>No hashtags</td>\n",
              "      <td>Esatto brava ti dico di piu i nazisti nel cerc...</td>\n",
              "      <td>Il Covid e le guerre sono il braccio armato de...</td>\n",
              "      <td>216</td>\n",
              "      <td>38</td>\n",
              "      <td>['Esatto', 'brava', 'dico', 'piu', 'nazisti', ...</td>\n",
              "      <td>[('Esatto', 'NOUN'), ('brava', 'ADJ'), ('dico'...</td>\n",
              "      <td>['esatto', 'bravo', 'dico', 'piu', 'nazista', ...</td>\n",
              "      <td>['esatt', 'brav', 'dic', 'piu', 'nazist', 'cer...</td>\n",
              "      <td>0</td>\n",
              "    </tr>\n",
              "    <tr>\n",
              "      <th>9918</th>\n",
              "      <td>@527727106662135 Togliere la parola non vaccin...</td>\n",
              "      <td>0</td>\n",
              "      <td>1</td>\n",
              "      <td>0.0</td>\n",
              "      <td>0.0</td>\n",
              "      <td>1.0</td>\n",
              "      <td>0.0</td>\n",
              "      <td>721.0</td>\n",
              "      <td>31.0</td>\n",
              "      <td>169.0</td>\n",
              "      <td>...</td>\n",
              "      <td>No hashtags</td>\n",
              "      <td>Togliere la parola non vaccinati e mettere ebr...</td>\n",
              "      <td>Galileo Copernico Giordano Bruno furono consid...</td>\n",
              "      <td>57</td>\n",
              "      <td>10</td>\n",
              "      <td>['Togliere', 'parola', 'vaccinati', 'mettere',...</td>\n",
              "      <td>[('Togliere', 'VERB'), ('parola', 'NOUN'), ('v...</td>\n",
              "      <td>['Togliere', 'parola', 'vaccinare', 'mettere',...</td>\n",
              "      <td>['togl', 'parol', 'vaccin', 'mett', 'ebre', 'u...</td>\n",
              "      <td>0</td>\n",
              "    </tr>\n",
              "    <tr>\n",
              "      <th>9919</th>\n",
              "      <td>@298046772245367 @232578747771124 Lo sai o no ...</td>\n",
              "      <td>0</td>\n",
              "      <td>1</td>\n",
              "      <td>0.0</td>\n",
              "      <td>0.0</td>\n",
              "      <td>1.0</td>\n",
              "      <td>0.0</td>\n",
              "      <td>116.0</td>\n",
              "      <td>9.0</td>\n",
              "      <td>30.0</td>\n",
              "      <td>...</td>\n",
              "      <td>No hashtags</td>\n",
              "      <td>Lo sai o no che i musulmani riconoscono Cristo...</td>\n",
              "      <td>nodescription</td>\n",
              "      <td>116</td>\n",
              "      <td>20</td>\n",
              "      <td>['sai', 'musulmani', 'riconoscono', 'Cristo', ...</td>\n",
              "      <td>[('sai', 'VERB'), ('musulmani', 'NOUN'), ('ric...</td>\n",
              "      <td>['sai', 'musulmano', 'riconoscere', 'Cristo', ...</td>\n",
              "      <td>['sai', 'musulman', 'riconosc', 'crist', 'prof...</td>\n",
              "      <td>0</td>\n",
              "    </tr>\n",
              "    <tr>\n",
              "      <th>9920</th>\n",
              "      <td>Berlino - Memoriale per gli ebrei assassinati ...</td>\n",
              "      <td>0</td>\n",
              "      <td>1</td>\n",
              "      <td>4.0</td>\n",
              "      <td>55.0</td>\n",
              "      <td>0.0</td>\n",
              "      <td>0.0</td>\n",
              "      <td>5672.0</td>\n",
              "      <td>2544.0</td>\n",
              "      <td>2501.0</td>\n",
              "      <td>...</td>\n",
              "      <td>No hashtags</td>\n",
              "      <td>Berlino Memoriale per gli ebrei assassinati dE...</td>\n",
              "      <td>Se pensi di non farcela riordina l'armadio Ten...</td>\n",
              "      <td>66</td>\n",
              "      <td>10</td>\n",
              "      <td>['Berlino', 'Memoriale', 'ebrei', 'assassinati...</td>\n",
              "      <td>[('Berlino', 'PROPN'), ('Memoriale', 'PROPN'),...</td>\n",
              "      <td>['Berlino', 'Memoriale', 'ebreo', 'assassinare...</td>\n",
              "      <td>['berlin', 'memorial', 'ebre', 'assassin', 'de...</td>\n",
              "      <td>0</td>\n",
              "    </tr>\n",
              "    <tr>\n",
              "      <th>9921</th>\n",
              "      <td>@803834964246501 @248986882362719 Solo un tero...</td>\n",
              "      <td>0</td>\n",
              "      <td>1</td>\n",
              "      <td>0.0</td>\n",
              "      <td>0.0</td>\n",
              "      <td>1.0</td>\n",
              "      <td>0.0</td>\n",
              "      <td>784.0</td>\n",
              "      <td>10.0</td>\n",
              "      <td>8.0</td>\n",
              "      <td>...</td>\n",
              "      <td>No hashtags</td>\n",
              "      <td>Solo un terone dal culetto olivastro bruciato ...</td>\n",
              "      <td>nodescription</td>\n",
              "      <td>253</td>\n",
              "      <td>43</td>\n",
              "      <td>['terone', 'culetto', 'olivastro', 'bruciato',...</td>\n",
              "      <td>[('terone', 'NOUN'), ('culetto', 'VERB'), ('ol...</td>\n",
              "      <td>['terone', 'culetto', 'olivastro', 'bruciato',...</td>\n",
              "      <td>['teron', 'culett', 'olivastr', 'bruc', 'port'...</td>\n",
              "      <td>0</td>\n",
              "    </tr>\n",
              "  </tbody>\n",
              "</table>\n",
              "<p>9922 rows × 24 columns</p>\n",
              "</div>\n",
              "    <div class=\"colab-df-buttons\">\n",
              "\n",
              "  <div class=\"colab-df-container\">\n",
              "    <button class=\"colab-df-convert\" onclick=\"convertToInteractive('df-7dd39f28-9586-4119-bb53-74ebd6daafc0')\"\n",
              "            title=\"Convert this dataframe to an interactive table.\"\n",
              "            style=\"display:none;\">\n",
              "\n",
              "  <svg xmlns=\"http://www.w3.org/2000/svg\" height=\"24px\" viewBox=\"0 -960 960 960\">\n",
              "    <path d=\"M120-120v-720h720v720H120Zm60-500h600v-160H180v160Zm220 220h160v-160H400v160Zm0 220h160v-160H400v160ZM180-400h160v-160H180v160Zm440 0h160v-160H620v160ZM180-180h160v-160H180v160Zm440 0h160v-160H620v160Z\"/>\n",
              "  </svg>\n",
              "    </button>\n",
              "\n",
              "  <style>\n",
              "    .colab-df-container {\n",
              "      display:flex;\n",
              "      gap: 12px;\n",
              "    }\n",
              "\n",
              "    .colab-df-convert {\n",
              "      background-color: #E8F0FE;\n",
              "      border: none;\n",
              "      border-radius: 50%;\n",
              "      cursor: pointer;\n",
              "      display: none;\n",
              "      fill: #1967D2;\n",
              "      height: 32px;\n",
              "      padding: 0 0 0 0;\n",
              "      width: 32px;\n",
              "    }\n",
              "\n",
              "    .colab-df-convert:hover {\n",
              "      background-color: #E2EBFA;\n",
              "      box-shadow: 0px 1px 2px rgba(60, 64, 67, 0.3), 0px 1px 3px 1px rgba(60, 64, 67, 0.15);\n",
              "      fill: #174EA6;\n",
              "    }\n",
              "\n",
              "    .colab-df-buttons div {\n",
              "      margin-bottom: 4px;\n",
              "    }\n",
              "\n",
              "    [theme=dark] .colab-df-convert {\n",
              "      background-color: #3B4455;\n",
              "      fill: #D2E3FC;\n",
              "    }\n",
              "\n",
              "    [theme=dark] .colab-df-convert:hover {\n",
              "      background-color: #434B5C;\n",
              "      box-shadow: 0px 1px 3px 1px rgba(0, 0, 0, 0.15);\n",
              "      filter: drop-shadow(0px 1px 2px rgba(0, 0, 0, 0.3));\n",
              "      fill: #FFFFFF;\n",
              "    }\n",
              "  </style>\n",
              "\n",
              "    <script>\n",
              "      const buttonEl =\n",
              "        document.querySelector('#df-7dd39f28-9586-4119-bb53-74ebd6daafc0 button.colab-df-convert');\n",
              "      buttonEl.style.display =\n",
              "        google.colab.kernel.accessAllowed ? 'block' : 'none';\n",
              "\n",
              "      async function convertToInteractive(key) {\n",
              "        const element = document.querySelector('#df-7dd39f28-9586-4119-bb53-74ebd6daafc0');\n",
              "        const dataTable =\n",
              "          await google.colab.kernel.invokeFunction('convertToInteractive',\n",
              "                                                    [key], {});\n",
              "        if (!dataTable) return;\n",
              "\n",
              "        const docLinkHtml = 'Like what you see? Visit the ' +\n",
              "          '<a target=\"_blank\" href=https://colab.research.google.com/notebooks/data_table.ipynb>data table notebook</a>'\n",
              "          + ' to learn more about interactive tables.';\n",
              "        element.innerHTML = '';\n",
              "        dataTable['output_type'] = 'display_data';\n",
              "        await google.colab.output.renderOutput(dataTable, element);\n",
              "        const docLink = document.createElement('div');\n",
              "        docLink.innerHTML = docLinkHtml;\n",
              "        element.appendChild(docLink);\n",
              "      }\n",
              "    </script>\n",
              "  </div>\n",
              "\n",
              "\n",
              "<div id=\"df-fe7a6fa0-f849-4872-bb56-e174477f65a2\">\n",
              "  <button class=\"colab-df-quickchart\" onclick=\"quickchart('df-fe7a6fa0-f849-4872-bb56-e174477f65a2')\"\n",
              "            title=\"Suggest charts\"\n",
              "            style=\"display:none;\">\n",
              "\n",
              "<svg xmlns=\"http://www.w3.org/2000/svg\" height=\"24px\"viewBox=\"0 0 24 24\"\n",
              "     width=\"24px\">\n",
              "    <g>\n",
              "        <path d=\"M19 3H5c-1.1 0-2 .9-2 2v14c0 1.1.9 2 2 2h14c1.1 0 2-.9 2-2V5c0-1.1-.9-2-2-2zM9 17H7v-7h2v7zm4 0h-2V7h2v10zm4 0h-2v-4h2v4z\"/>\n",
              "    </g>\n",
              "</svg>\n",
              "  </button>\n",
              "\n",
              "<style>\n",
              "  .colab-df-quickchart {\n",
              "      --bg-color: #E8F0FE;\n",
              "      --fill-color: #1967D2;\n",
              "      --hover-bg-color: #E2EBFA;\n",
              "      --hover-fill-color: #174EA6;\n",
              "      --disabled-fill-color: #AAA;\n",
              "      --disabled-bg-color: #DDD;\n",
              "  }\n",
              "\n",
              "  [theme=dark] .colab-df-quickchart {\n",
              "      --bg-color: #3B4455;\n",
              "      --fill-color: #D2E3FC;\n",
              "      --hover-bg-color: #434B5C;\n",
              "      --hover-fill-color: #FFFFFF;\n",
              "      --disabled-bg-color: #3B4455;\n",
              "      --disabled-fill-color: #666;\n",
              "  }\n",
              "\n",
              "  .colab-df-quickchart {\n",
              "    background-color: var(--bg-color);\n",
              "    border: none;\n",
              "    border-radius: 50%;\n",
              "    cursor: pointer;\n",
              "    display: none;\n",
              "    fill: var(--fill-color);\n",
              "    height: 32px;\n",
              "    padding: 0;\n",
              "    width: 32px;\n",
              "  }\n",
              "\n",
              "  .colab-df-quickchart:hover {\n",
              "    background-color: var(--hover-bg-color);\n",
              "    box-shadow: 0 1px 2px rgba(60, 64, 67, 0.3), 0 1px 3px 1px rgba(60, 64, 67, 0.15);\n",
              "    fill: var(--button-hover-fill-color);\n",
              "  }\n",
              "\n",
              "  .colab-df-quickchart-complete:disabled,\n",
              "  .colab-df-quickchart-complete:disabled:hover {\n",
              "    background-color: var(--disabled-bg-color);\n",
              "    fill: var(--disabled-fill-color);\n",
              "    box-shadow: none;\n",
              "  }\n",
              "\n",
              "  .colab-df-spinner {\n",
              "    border: 2px solid var(--fill-color);\n",
              "    border-color: transparent;\n",
              "    border-bottom-color: var(--fill-color);\n",
              "    animation:\n",
              "      spin 1s steps(1) infinite;\n",
              "  }\n",
              "\n",
              "  @keyframes spin {\n",
              "    0% {\n",
              "      border-color: transparent;\n",
              "      border-bottom-color: var(--fill-color);\n",
              "      border-left-color: var(--fill-color);\n",
              "    }\n",
              "    20% {\n",
              "      border-color: transparent;\n",
              "      border-left-color: var(--fill-color);\n",
              "      border-top-color: var(--fill-color);\n",
              "    }\n",
              "    30% {\n",
              "      border-color: transparent;\n",
              "      border-left-color: var(--fill-color);\n",
              "      border-top-color: var(--fill-color);\n",
              "      border-right-color: var(--fill-color);\n",
              "    }\n",
              "    40% {\n",
              "      border-color: transparent;\n",
              "      border-right-color: var(--fill-color);\n",
              "      border-top-color: var(--fill-color);\n",
              "    }\n",
              "    60% {\n",
              "      border-color: transparent;\n",
              "      border-right-color: var(--fill-color);\n",
              "    }\n",
              "    80% {\n",
              "      border-color: transparent;\n",
              "      border-right-color: var(--fill-color);\n",
              "      border-bottom-color: var(--fill-color);\n",
              "    }\n",
              "    90% {\n",
              "      border-color: transparent;\n",
              "      border-bottom-color: var(--fill-color);\n",
              "    }\n",
              "  }\n",
              "</style>\n",
              "\n",
              "  <script>\n",
              "    async function quickchart(key) {\n",
              "      const quickchartButtonEl =\n",
              "        document.querySelector('#' + key + ' button');\n",
              "      quickchartButtonEl.disabled = true;  // To prevent multiple clicks.\n",
              "      quickchartButtonEl.classList.add('colab-df-spinner');\n",
              "      try {\n",
              "        const charts = await google.colab.kernel.invokeFunction(\n",
              "            'suggestCharts', [key], {});\n",
              "      } catch (error) {\n",
              "        console.error('Error during call to suggestCharts:', error);\n",
              "      }\n",
              "      quickchartButtonEl.classList.remove('colab-df-spinner');\n",
              "      quickchartButtonEl.classList.add('colab-df-quickchart-complete');\n",
              "    }\n",
              "    (() => {\n",
              "      let quickchartButtonEl =\n",
              "        document.querySelector('#df-fe7a6fa0-f849-4872-bb56-e174477f65a2 button');\n",
              "      quickchartButtonEl.style.display =\n",
              "        google.colab.kernel.accessAllowed ? 'block' : 'none';\n",
              "    })();\n",
              "  </script>\n",
              "</div>\n",
              "    </div>\n",
              "  </div>\n"
            ]
          },
          "metadata": {},
          "execution_count": 4
        }
      ],
      "source": [
        "df"
      ]
    },
    {
      "cell_type": "markdown",
      "metadata": {
        "id": "SwgzBokUUr9O"
      },
      "source": []
    },
    {
      "cell_type": "code",
      "execution_count": 5,
      "metadata": {
        "id": "z72sfRnc45m7"
      },
      "outputs": [],
      "source": [
        "max_features = 30000\n",
        "maxlen = 500\n",
        "batch_size = 512\n",
        "embedding_dims = 100\n",
        "hidden_dims = 20"
      ]
    },
    {
      "cell_type": "markdown",
      "metadata": {
        "id": "jvyZwdKhUutK"
      },
      "source": [
        "## STARTING"
      ]
    },
    {
      "cell_type": "code",
      "execution_count": null,
      "metadata": {
        "id": "3PeMbpB8-ilb"
      },
      "outputs": [],
      "source": [
        "tagged_data = list()\n",
        "for index, row in df.iterrows():\n",
        "    # row['lemmatized_tweets'] rappresenta la colonna con i tweet lemmatizzati e preprocessati\n",
        "    # Utilizza re.split per dividere il testo in parole e converti tutto in minuscolo\n",
        "    words = re.split('[\\W\\d_]+', row['lemmatized_text'].lower())\n",
        "\n",
        "    # Crea un oggetto TaggedDocument e aggiungilo alla lista\n",
        "    tagged_data.append(TaggedDocument(words=words, tags=[str(index)]))"
      ]
    },
    {
      "cell_type": "code",
      "execution_count": null,
      "metadata": {
        "colab": {
          "base_uri": "https://localhost:8080/"
        },
        "id": "Wolw4RkP__3K",
        "outputId": "1d404e1c-2726-48be-a253-9e159e6f7d6d"
      },
      "outputs": [
        {
          "data": {
            "text/plain": [
              "[TaggedDocument(words=['', 'denuncia', 'beccare', 'salvini', 'rischiare', 'aumentare', 'statistica', 'reato', 'commettere', 'italiano', ''], tags=['0']),\n",
              " TaggedDocument(words=['', 'prescrizione', 'tre', 'mago', 'trovare', 'laccordo', 'primo', 'legge', 'proceduro', 'durgenza', 'però', 'entrare', 'vigore', 'anno', 'nasce', 'categoria', 'urgenza', 'differire', 'piangere', 'litalia', 'm', 's', 'ridere', ''], tags=['1']),\n",
              " TaggedDocument(words=['', 'm', 's', 'votare', 'unionicivile', 'adducere', 'scusa', 'vergognoso', 'sostenere', 'ddlpillon', 'riportare', 'litalia', 'medioevo', 'divorzio', 'tutelare', 'donna', 'piano', 'piano', 'sparisce', 'alibi', 'rimanere', 'sostanza', 'merde', 'fasciste', 'nopillon', ''], tags=['2']),\n",
              " TaggedDocument(words=['', 'lega', 'm', 's', 'dare', 'bere', 'a', 'il', 'opinione', 'pubblico', 'proceduradiinfrazione', 'colpa', 'pd', 'renzi', 'gentiloni', 'inquietante', 'italiano', 'credere', 'davvero', 'onestà', 'intellettuale', 'pari', 'novembre', 'manovradelpopolo', ''], tags=['3']),\n",
              " TaggedDocument(words=['', 'cambiare', 'legge', 'caro', 'decretoinsicurezza', 'lega', 'dovere', 'risarcire', 'delinquente', 'finalmente', 'decidere', 'vittima', 'carnefice', 'nonèlarena', 'gileggere', ''], tags=['4'])]"
            ]
          },
          "execution_count": 8,
          "metadata": {},
          "output_type": "execute_result"
        }
      ],
      "source": [
        "tagged_data[:5]"
      ]
    },
    {
      "cell_type": "code",
      "execution_count": null,
      "metadata": {
        "id": "rdOVefiI_OI2"
      },
      "outputs": [],
      "source": [
        "import gensim\n",
        "from gensim.models import Doc2Vec\n",
        "model = Doc2Vec(tagged_data, vector_size=170, window=10, min_count=3, epochs=10)\n",
        "\n",
        "#vector_size=dimensione del vettore che viene creato.\n",
        "#window= è la distanza massima tra la parola corrente e la parola predetta dentro la sequenza"
      ]
    },
    {
      "cell_type": "markdown",
      "metadata": {
        "id": "PtEJnthvFNfn"
      },
      "source": [
        "As a very basic experiment, since we are already managing some problem connected to the preprocessing of the text(try to make understandable that the word \"Salvini\" have to remain like that and don't be lemmatized as \"salvino\") we want to explore the similarity with the word \"salvino\". We notice that, since the lemmatizer change the structure of this word, its meaning doesn't change. It is associated with Conte, Governo, Renzi, hashtag as iostoconrobero(Speranza, Minister), dimaio. Seems strange that Draghi is not strictly associated with them. It might be cause of the fact the sudden exist of the name \"Draghi\" as prime minister had created furor only in some user and not in the other. We will try to do the same with NER output."
      ]
    },
    {
      "cell_type": "code",
      "execution_count": null,
      "metadata": {
        "colab": {
          "base_uri": "https://localhost:8080/"
        },
        "id": "DZt_gDX0_Pgy",
        "outputId": "b93d0fd1-52e6-42fd-fe9a-1f4df3d88774"
      },
      "outputs": [
        {
          "data": {
            "text/plain": [
              "[('legare', 0.9860526323318481),\n",
              " ('salvini', 0.9838139414787292),\n",
              " ('fdi', 0.9837953448295593),\n",
              " ('dimaio', 0.9804694056510925),\n",
              " ('leu', 0.9777477979660034),\n",
              " ('vota', 0.9776481986045837),\n",
              " ('governare', 0.9735984206199646),\n",
              " ('conte', 0.9696361422538757),\n",
              " ('letta', 0.9690291285514832),\n",
              " ('italiamorto', 0.9689366817474365)]"
            ]
          },
          "execution_count": 10,
          "metadata": {},
          "output_type": "execute_result"
        }
      ],
      "source": [
        "model.wv.most_similar(['salvino'])\n"
      ]
    },
    {
      "cell_type": "code",
      "execution_count": null,
      "metadata": {
        "colab": {
          "base_uri": "https://localhost:8080/"
        },
        "id": "KfqEx8mO_Pbs",
        "outputId": "5a8d9943-6f56-4cf2-e31d-60879e3f5ee7"
      },
      "outputs": [
        {
          "data": {
            "text/plain": [
              "[('salvino', 0.983814001083374),\n",
              " ('conte', 0.9752814769744873),\n",
              " ('governo', 0.9729632139205933),\n",
              " ('legare', 0.9630873799324036),\n",
              " ('leu', 0.9510477185249329),\n",
              " ('dimaio', 0.949779748916626),\n",
              " ('fdi', 0.9489536285400391),\n",
              " ('renzi', 0.9483312368392944),\n",
              " ('vota', 0.9476805925369263),\n",
              " ('proceduradinfrazione', 0.9347253441810608)]"
            ]
          },
          "execution_count": 11,
          "metadata": {},
          "output_type": "execute_result"
        }
      ],
      "source": [
        "model.wv.most_similar(['salvini'])"
      ]
    },
    {
      "cell_type": "code",
      "execution_count": null,
      "metadata": {
        "colab": {
          "base_uri": "https://localhost:8080/"
        },
        "id": "ibEXUF2Y_Pdv",
        "outputId": "d8e8e9b2-ee8a-4f6e-beb2-52283879ba8f"
      },
      "outputs": [
        {
          "data": {
            "text/plain": [
              "[('salvini', 0.9176692366600037),\n",
              " ('meloni', 0.908865749835968),\n",
              " ('dimissioni', 0.9056168794631958),\n",
              " ('aprile', 0.9001215100288391),\n",
              " ('memes', 0.8969162106513977),\n",
              " ('salvino', 0.8856795430183411),\n",
              " ('bagnaio', 0.8846206068992615),\n",
              " ('mef', 0.8827675580978394),\n",
              " ('iltempoquotidiano', 0.8778620362281799),\n",
              " ('conte', 0.8722373843193054)]"
            ]
          },
          "execution_count": 12,
          "metadata": {},
          "output_type": "execute_result"
        }
      ],
      "source": [
        "model.wv.most_similar(['draghi'])\n"
      ]
    },
    {
      "cell_type": "markdown",
      "metadata": {
        "id": "ykLsH594T7gp"
      },
      "source": [
        "## FUNCTIONS"
      ]
    },
    {
      "cell_type": "code",
      "execution_count": 6,
      "metadata": {
        "id": "RYu7hzImVnVJ"
      },
      "outputs": [],
      "source": [
        "# Find longest tweet in sequences\n",
        "def max_tweet(sequences):\n",
        "    max_length = len(sequences[0])\n",
        "    for i in range(1, len(sequences)):\n",
        "        if len(sequences[i]) > max_length:\n",
        "            max_length = len(sequences[i])\n",
        "    return max_length"
      ]
    },
    {
      "cell_type": "code",
      "execution_count": 7,
      "metadata": {
        "id": "cn7pts5JV90e"
      },
      "outputs": [],
      "source": [
        "# Plot train/test loss and accuracy\n",
        "def plotLoss(hist):\n",
        "    acc = hist.history['accuracy']\n",
        "    val_acc = hist.history['val_accuracy']\n",
        "    loss = hist.history['loss']\n",
        "    val_loss = hist.history['val_loss']\n",
        "\n",
        "    epochs = range(len(acc))\n",
        "\n",
        "    plt.plot(epochs, acc, 'g', label='Training acc')\n",
        "    plt.plot(epochs, val_acc, 'b', label='Validation acc')\n",
        "    plt.title('Training and validation accuracy')\n",
        "    plt.legend()\n",
        "\n",
        "    plt.figure()\n",
        "\n",
        "    plt.plot(epochs, loss, 'g', label='Training loss')\n",
        "    plt.plot(epochs, val_loss, 'b', label='Validation loss')\n",
        "    plt.title('Training and validation loss')\n",
        "    plt.legend()\n",
        "    plt.show()"
      ]
    },
    {
      "cell_type": "code",
      "execution_count": 8,
      "metadata": {
        "id": "uIVziN0oZCXV"
      },
      "outputs": [],
      "source": [
        "df['clean_tweet'] = df['clean_tweet'].astype(str).apply(lambda x: x.lower())\n"
      ]
    },
    {
      "cell_type": "code",
      "execution_count": 9,
      "metadata": {
        "id": "_HnmFS1aT84B"
      },
      "outputs": [],
      "source": [
        "X = df['clean_tweet']\n",
        "y = df[\"is_hate_speech\"]"
      ]
    },
    {
      "cell_type": "code",
      "execution_count": 10,
      "metadata": {
        "id": "HUXTTMojUAUb"
      },
      "outputs": [],
      "source": [
        "X_train, X_test, y_train, y_test = train_test_split(X, y, stratify = y, test_size=0.3, random_state=42)"
      ]
    },
    {
      "cell_type": "code",
      "execution_count": 11,
      "metadata": {
        "colab": {
          "base_uri": "https://localhost:8080/"
        },
        "id": "xtFJNZMrLklt",
        "outputId": "3784b795-35c9-4706-cc04-6afe8c7bc83e"
      },
      "outputs": [
        {
          "output_type": "execute_result",
          "data": {
            "text/plain": [
              "(6945,)"
            ]
          },
          "metadata": {},
          "execution_count": 11
        }
      ],
      "source": [
        "X_train.shape"
      ]
    },
    {
      "cell_type": "code",
      "execution_count": 12,
      "metadata": {
        "colab": {
          "base_uri": "https://localhost:8080/"
        },
        "id": "e4mFN65BWzN5",
        "outputId": "daa75884-dc48-43f5-c8cf-7a4f8c17779f"
      },
      "outputs": [
        {
          "output_type": "execute_result",
          "data": {
            "text/plain": [
              "(6945,)"
            ]
          },
          "metadata": {},
          "execution_count": 12
        }
      ],
      "source": [
        "y_train.shape"
      ]
    },
    {
      "cell_type": "code",
      "execution_count": 13,
      "metadata": {
        "id": "FJzCMOOTbwu6"
      },
      "outputs": [],
      "source": [
        "tokenizer = Tokenizer(num_words=max_features)\n",
        "tokenizer.fit_on_texts(X_train)\n",
        "\n",
        "X_train = tokenizer.texts_to_sequences(X_train)\n",
        "X_test = tokenizer.texts_to_sequences(X_test)\n",
        "\n",
        "X_train = pad_sequences(X_train, maxlen=maxlen)\n",
        "X_test = pad_sequences(X_test, maxlen=maxlen)"
      ]
    },
    {
      "cell_type": "code",
      "execution_count": 14,
      "metadata": {
        "colab": {
          "base_uri": "https://localhost:8080/"
        },
        "id": "G7APLtAaVSOz",
        "outputId": "2a5029f0-2b8a-4fd2-a299-b1431505e620"
      },
      "outputs": [
        {
          "output_type": "stream",
          "name": "stdout",
          "text": [
            "x_train shape: (6945, 500)\n",
            "x_test shape: (2977, 500)\n"
          ]
        }
      ],
      "source": [
        "X_train = pad_sequences(X_train, maxlen=maxlen)\n",
        "X_test = pad_sequences(X_test, maxlen=maxlen)\n",
        "print('x_train shape:', X_train.shape)\n",
        "print('x_test shape:', X_test.shape)"
      ]
    },
    {
      "cell_type": "code",
      "execution_count": 15,
      "metadata": {
        "colab": {
          "base_uri": "https://localhost:8080/"
        },
        "id": "Tpvbm_kJLqyq",
        "outputId": "a6a21df0-59d6-4708-ca15-4d0956de8785"
      },
      "outputs": [
        {
          "output_type": "execute_result",
          "data": {
            "text/plain": [
              "(6945, 500)"
            ]
          },
          "metadata": {},
          "execution_count": 15
        }
      ],
      "source": [
        "X_train.shape"
      ]
    },
    {
      "cell_type": "markdown",
      "metadata": {
        "id": "cgBqrrxF0ERX"
      },
      "source": [
        "# LSTM"
      ]
    },
    {
      "cell_type": "markdown",
      "metadata": {
        "id": "lpaoT8JLvfrx"
      },
      "source": [
        "## MODEL 1"
      ]
    },
    {
      "cell_type": "code",
      "execution_count": null,
      "metadata": {
        "id": "8agaC-QSSjWt"
      },
      "outputs": [],
      "source": []
    },
    {
      "cell_type": "code",
      "execution_count": null,
      "metadata": {
        "colab": {
          "base_uri": "https://localhost:8080/"
        },
        "id": "v1OLQ1PyUB7U",
        "outputId": "848d82e2-3b3e-4579-c00e-8446a01ef3ad"
      },
      "outputs": [
        {
          "name": "stdout",
          "output_type": "stream",
          "text": [
            "Build model...\n"
          ]
        },
        {
          "data": {
            "text/plain": [
              "<bound method Model.summary of <keras.src.engine.sequential.Sequential object at 0x78e0f60d7b80>>"
            ]
          },
          "execution_count": 42,
          "metadata": {},
          "output_type": "execute_result"
        }
      ],
      "source": [
        "print('Build model...')\n",
        "model = Sequential()\n",
        "model.add(Embedding(max_features, embedding_dims))\n",
        "model.add(LSTM(16, dropout=0.2, recurrent_dropout=0.2, kernel_regularizer= l2(0.25), recurrent_regularizer=l2(0.25)))\n",
        "model.add(Dense(1, activation='sigmoid'))\n",
        "\n",
        "# try using different optimizers and different optimizer configs\n",
        "model.compile(loss='binary_crossentropy',\n",
        "              optimizer='adam',\n",
        "              metrics=['accuracy'])\n",
        "\n",
        "model.summary"
      ]
    },
    {
      "cell_type": "code",
      "execution_count": null,
      "metadata": {
        "colab": {
          "base_uri": "https://localhost:8080/"
        },
        "id": "GEZ4vXeE0IZh",
        "outputId": "972e3376-11cf-4432-de77-5eca061e0ee4"
      },
      "outputs": [
        {
          "name": "stdout",
          "output_type": "stream",
          "text": [
            "Train...\n",
            "Epoch 1/20\n",
            "13/13 [==============================] - 41s 3s/step - loss: 18.8436 - accuracy: 0.6693 - val_loss: 16.7624 - val_accuracy: 0.6791\n",
            "Epoch 2/20\n",
            "13/13 [==============================] - 32s 3s/step - loss: 15.3543 - accuracy: 0.6694 - val_loss: 13.6350 - val_accuracy: 0.6791\n",
            "Epoch 3/20\n",
            "13/13 [==============================] - 34s 3s/step - loss: 12.4751 - accuracy: 0.6694 - val_loss: 11.0727 - val_accuracy: 0.6791\n",
            "Epoch 4/20\n",
            "13/13 [==============================] - 31s 2s/step - loss: 10.1236 - accuracy: 0.6694 - val_loss: 8.9871 - val_accuracy: 0.6791\n",
            "Epoch 5/20\n",
            "13/13 [==============================] - 30s 2s/step - loss: 8.2132 - accuracy: 0.6694 - val_loss: 7.2967 - val_accuracy: 0.6791\n",
            "Epoch 6/20\n",
            "13/13 [==============================] - 39s 3s/step - loss: 6.6667 - accuracy: 0.6694 - val_loss: 5.9311 - val_accuracy: 0.6791\n",
            "Epoch 7/20\n",
            "13/13 [==============================] - 36s 3s/step - loss: 5.4186 - accuracy: 0.6694 - val_loss: 4.8321 - val_accuracy: 0.6791\n",
            "Epoch 8/20\n",
            "13/13 [==============================] - 44s 3s/step - loss: 4.4147 - accuracy: 0.6694 - val_loss: 3.9504 - val_accuracy: 0.6791\n",
            "Epoch 9/20\n",
            "13/13 [==============================] - 45s 3s/step - loss: 3.6095 - accuracy: 0.6699 - val_loss: 3.2457 - val_accuracy: 0.6806\n",
            "Epoch 10/20\n",
            "13/13 [==============================] - 33s 3s/step - loss: 2.9654 - accuracy: 0.6718 - val_loss: 2.6844 - val_accuracy: 0.6820\n",
            "Epoch 11/20\n",
            "13/13 [==============================] - 33s 3s/step - loss: 2.4511 - accuracy: 0.6733 - val_loss: 2.2387 - val_accuracy: 0.6849\n",
            "Epoch 12/20\n",
            "13/13 [==============================] - 43s 3s/step - loss: 2.0409 - accuracy: 0.6882 - val_loss: 1.8859 - val_accuracy: 0.6935\n",
            "Epoch 13/20\n",
            "13/13 [==============================] - 31s 2s/step - loss: 1.7130 - accuracy: 0.7238 - val_loss: 1.6070 - val_accuracy: 0.7151\n",
            "Epoch 14/20\n",
            "13/13 [==============================] - 32s 3s/step - loss: 1.4495 - accuracy: 0.7592 - val_loss: 1.3869 - val_accuracy: 0.7353\n",
            "Epoch 15/20\n",
            "13/13 [==============================] - 31s 2s/step - loss: 1.2371 - accuracy: 0.7968 - val_loss: 1.2133 - val_accuracy: 0.7655\n",
            "Epoch 16/20\n",
            "13/13 [==============================] - 45s 3s/step - loss: 1.0638 - accuracy: 0.8338 - val_loss: 1.0765 - val_accuracy: 0.7827\n",
            "Epoch 17/20\n",
            "13/13 [==============================] - 33s 2s/step - loss: 0.9216 - accuracy: 0.8579 - val_loss: 0.9674 - val_accuracy: 0.7971\n",
            "Epoch 18/20\n",
            "13/13 [==============================] - 32s 2s/step - loss: 0.8033 - accuracy: 0.8846 - val_loss: 0.8797 - val_accuracy: 0.8173\n",
            "Epoch 19/20\n",
            "13/13 [==============================] - 34s 3s/step - loss: 0.7034 - accuracy: 0.9080 - val_loss: 0.8111 - val_accuracy: 0.8216\n",
            "Epoch 20/20\n",
            "13/13 [==============================] - 33s 2s/step - loss: 0.6183 - accuracy: 0.9275 - val_loss: 0.7553 - val_accuracy: 0.8273\n"
          ]
        }
      ],
      "source": [
        "epochs = 20\n",
        "print('Train...')\n",
        "hist1=model.fit(X_train, y_train,\n",
        "          batch_size=512,\n",
        "          epochs=epochs,\n",
        "          shuffle=True,\n",
        "          validation_split=0.1)"
      ]
    },
    {
      "cell_type": "code",
      "execution_count": null,
      "metadata": {
        "id": "NVDv-BIu4S6S"
      },
      "outputs": [],
      "source": [
        "plotLoss(hist1)"
      ]
    },
    {
      "cell_type": "code",
      "execution_count": null,
      "metadata": {
        "colab": {
          "base_uri": "https://localhost:8080/"
        },
        "id": "AIcP2ful0IXO",
        "outputId": "955beb15-5e12-40af-a434-9ba408b7d42f"
      },
      "outputs": [
        {
          "name": "stdout",
          "output_type": "stream",
          "text": [
            "94/94 [==============================] - 6s 58ms/step\n"
          ]
        },
        {
          "data": {
            "text/plain": [
              "array([[0.41815853],\n",
              "       [0.27994415],\n",
              "       [0.6762098 ],\n",
              "       ...,\n",
              "       [0.31501547],\n",
              "       [0.14967065],\n",
              "       [0.23021235]], dtype=float32)"
            ]
          },
          "execution_count": 46,
          "metadata": {},
          "output_type": "execute_result"
        }
      ],
      "source": [
        "predictions = model.predict(X_test)\n",
        "predictions"
      ]
    },
    {
      "cell_type": "code",
      "execution_count": null,
      "metadata": {
        "colab": {
          "base_uri": "https://localhost:8080/"
        },
        "id": "i79jz5jbIO-e",
        "outputId": "c3125a39-319a-4951-c384-46d5839b2ac8"
      },
      "outputs": [
        {
          "data": {
            "text/plain": [
              "array([[0.],\n",
              "       [0.],\n",
              "       [1.],\n",
              "       ...,\n",
              "       [0.],\n",
              "       [0.],\n",
              "       [0.]], dtype=float32)"
            ]
          },
          "execution_count": 47,
          "metadata": {},
          "output_type": "execute_result"
        }
      ],
      "source": [
        "predictions.round()"
      ]
    },
    {
      "cell_type": "code",
      "execution_count": null,
      "metadata": {
        "colab": {
          "base_uri": "https://localhost:8080/"
        },
        "id": "2uV_0TaSIO-f",
        "outputId": "ae4cc3f4-2a42-4ea0-b0b2-d348d7142de1"
      },
      "outputs": [
        {
          "data": {
            "text/plain": [
              "2084    1\n",
              "4605    0\n",
              "8411    1\n",
              "4149    1\n",
              "2875    0\n",
              "       ..\n",
              "9150    0\n",
              "7954    1\n",
              "7639    1\n",
              "2114    0\n",
              "8620    0\n",
              "Name: is_hate_speech, Length: 2977, dtype: int64"
            ]
          },
          "execution_count": 48,
          "metadata": {},
          "output_type": "execute_result"
        }
      ],
      "source": [
        "y_test"
      ]
    },
    {
      "cell_type": "code",
      "execution_count": null,
      "metadata": {
        "colab": {
          "base_uri": "https://localhost:8080/"
        },
        "id": "Y4owk4kIIO-h",
        "outputId": "6a96eb92-5f46-48ff-f757-47a8a6f8f081"
      },
      "outputs": [
        {
          "data": {
            "text/plain": [
              "2084    1.0\n",
              "4605    0.0\n",
              "8411    0.0\n",
              "4149    0.0\n",
              "2875    0.0\n",
              "       ... \n",
              "9150    0.0\n",
              "7954    0.0\n",
              "7639    1.0\n",
              "2114    0.0\n",
              "8620    0.0\n",
              "Name: is_hate_speech, Length: 2977, dtype: float64"
            ]
          },
          "execution_count": 49,
          "metadata": {},
          "output_type": "execute_result"
        }
      ],
      "source": [
        "import numpy as np\n",
        "errors = y_test-predictions.round().flatten()\n",
        "errors"
      ]
    },
    {
      "cell_type": "code",
      "execution_count": null,
      "metadata": {
        "colab": {
          "base_uri": "https://localhost:8080/"
        },
        "id": "VHaTVakLIO-j",
        "outputId": "2ff863a3-9068-4ec0-9390-87c15d23cb42"
      },
      "outputs": [
        {
          "data": {
            "text/plain": [
              "2440"
            ]
          },
          "execution_count": 50,
          "metadata": {},
          "output_type": "execute_result"
        }
      ],
      "source": [
        "len(errors[errors==0])"
      ]
    },
    {
      "cell_type": "code",
      "execution_count": null,
      "metadata": {
        "colab": {
          "base_uri": "https://localhost:8080/"
        },
        "id": "SBRE6MONIO-l",
        "outputId": "db014809-dc9a-449c-f1b2-4caffda6cd5a"
      },
      "outputs": [
        {
          "data": {
            "text/plain": [
              "0.8196170641585488"
            ]
          },
          "execution_count": 51,
          "metadata": {},
          "output_type": "execute_result"
        }
      ],
      "source": [
        "len(errors[errors==0])/len(errors)"
      ]
    },
    {
      "cell_type": "code",
      "execution_count": null,
      "metadata": {
        "id": "9WNO2jwYfUyB"
      },
      "outputs": [],
      "source": [
        "predicted_label = [int(a) for a in predictions.round()]"
      ]
    },
    {
      "cell_type": "code",
      "execution_count": null,
      "metadata": {
        "colab": {
          "base_uri": "https://localhost:8080/"
        },
        "id": "fkngZi-qr7dy",
        "outputId": "7d968f9c-4197-48cd-a530-9ebbe905de88"
      },
      "outputs": [
        {
          "name": "stdout",
          "output_type": "stream",
          "text": [
            "              precision    recall  f1-score   support\n",
            "\n",
            "           0       0.81      0.96      0.88      1996\n",
            "           1       0.86      0.54      0.66       981\n",
            "\n",
            "    accuracy                           0.82      2977\n",
            "   macro avg       0.83      0.75      0.77      2977\n",
            "weighted avg       0.83      0.82      0.81      2977\n",
            "\n"
          ]
        }
      ],
      "source": [
        "from sklearn.metrics import classification_report\n",
        "print(classification_report(y_test, predicted_label))"
      ]
    },
    {
      "cell_type": "code",
      "execution_count": null,
      "metadata": {
        "id": "EcOeG8sxOOcp"
      },
      "outputs": [],
      "source": [
        "conf_matrix = confusion_matrix(y_test, predicted_label)\n",
        "\n",
        "# Plot della confusion matrix utilizzando seaborn e matplotlib\n",
        "class_names = [\"No Hate\", \"Hate\"]\n",
        "sns.heatmap(conf_matrix, annot=True, fmt=\"d\", cmap=\"Blues\", xticklabels=class_names, yticklabels=class_names)\n",
        "plt.title('Confusion Matrix')\n",
        "plt.xlabel('Predicted')\n",
        "plt.ylabel('True')\n",
        "plt.show()"
      ]
    },
    {
      "cell_type": "code",
      "execution_count": null,
      "metadata": {
        "id": "rqeBggJ1QNcC"
      },
      "outputs": [],
      "source": [
        "fpr, tpr, thresholds = roc_curve(y_test, predicted_label)\n",
        "\n",
        "# Calcola l'area sotto la curva ROC (AUC)\n",
        "roc_auc = auc(fpr, tpr)\n",
        "\n",
        "# Plot della curva ROC\n",
        "plt.figure()\n",
        "plt.plot(fpr, tpr, color='darkorange', lw=2, label='ROC curve (area = {:.2f})'.format(roc_auc))\n",
        "plt.plot([0, 1], [0, 1], color='navy', lw=2, linestyle='--')\n",
        "plt.xlim([0.0, 1.0])\n",
        "plt.ylim([0.0, 1.05])\n",
        "plt.xlabel('False Positive Rate')\n",
        "plt.ylabel('True Positive Rate')\n",
        "plt.title('Receiver Operating Characteristic (ROC) Curve')\n",
        "plt.legend(loc=\"lower right\")\n",
        "plt.show()"
      ]
    },
    {
      "cell_type": "markdown",
      "metadata": {
        "id": "Y8ntBDF1XhGB"
      },
      "source": [
        "## MODELLO 2, 32 NEURONI E DROPOUT"
      ]
    },
    {
      "cell_type": "code",
      "execution_count": null,
      "metadata": {
        "colab": {
          "base_uri": "https://localhost:8080/"
        },
        "id": "g4DS_Dv9XhGC",
        "outputId": "16851185-35dd-4463-8a20-dcb0c01bdf52"
      },
      "outputs": [
        {
          "data": {
            "text/plain": [
              "<bound method Model.summary of <keras.src.engine.sequential.Sequential object at 0x78e0e691d4b0>>"
            ]
          },
          "execution_count": 55,
          "metadata": {},
          "output_type": "execute_result"
        }
      ],
      "source": [
        "lst_mod4 = Sequential()\n",
        "lst_mod4.add(Embedding(max_features, embedding_dims))\n",
        "#lst_mod4.add(Dropout(0.2))\n",
        "lst_mod4.add(LSTM(32,\n",
        "               dropout = 0.2,\n",
        "               recurrent_dropout = 0.5, kernel_regularizer= l2(0.25), recurrent_regularizer=l2(0.25)))\n",
        "#lst_mod4.add(Dropout(0.2))\n",
        "lst_mod4.add(Dense(1, activation='sigmoid'))\n",
        "lst_mod4.compile(optimizer='adam', loss='binary_crossentropy', metrics=['accuracy'])\n",
        "lst_mod4.summary"
      ]
    },
    {
      "cell_type": "code",
      "execution_count": null,
      "metadata": {
        "colab": {
          "base_uri": "https://localhost:8080/"
        },
        "id": "FlZIMH4PXhGC",
        "outputId": "d36654eb-a285-44d4-aad7-bac037515344"
      },
      "outputs": [
        {
          "name": "stdout",
          "output_type": "stream",
          "text": [
            "Epoch 1/20\n",
            "38/38 [==============================] - 50s 1s/step - loss: 26.2855 - accuracy: 0.6702 - val_loss: 17.5500 - val_accuracy: 0.6583\n",
            "Epoch 2/20\n",
            "38/38 [==============================] - 44s 1s/step - loss: 12.3881 - accuracy: 0.6754 - val_loss: 8.1756 - val_accuracy: 0.6583\n",
            "Epoch 3/20\n",
            "38/38 [==============================] - 43s 1s/step - loss: 5.7677 - accuracy: 0.6754 - val_loss: 3.8579 - val_accuracy: 0.6583\n",
            "Epoch 4/20\n",
            "38/38 [==============================] - 45s 1s/step - loss: 2.7729 - accuracy: 0.6756 - val_loss: 1.9574 - val_accuracy: 0.6583\n",
            "Epoch 5/20\n",
            "38/38 [==============================] - 51s 1s/step - loss: 1.4713 - accuracy: 0.6783 - val_loss: 1.1545 - val_accuracy: 0.6718\n",
            "Epoch 6/20\n",
            "38/38 [==============================] - 47s 1s/step - loss: 0.9057 - accuracy: 0.7437 - val_loss: 0.8159 - val_accuracy: 0.7510\n",
            "Epoch 7/20\n",
            "38/38 [==============================] - 46s 1s/step - loss: 0.6278 - accuracy: 0.8406 - val_loss: 0.6656 - val_accuracy: 0.8047\n",
            "Epoch 8/20\n",
            "38/38 [==============================] - 45s 1s/step - loss: 0.4559 - accuracy: 0.9124 - val_loss: 0.5951 - val_accuracy: 0.8258\n",
            "Epoch 9/20\n",
            "38/38 [==============================] - 44s 1s/step - loss: 0.3388 - accuracy: 0.9593 - val_loss: 0.5542 - val_accuracy: 0.8316\n",
            "Epoch 10/20\n",
            "38/38 [==============================] - 44s 1s/step - loss: 0.2643 - accuracy: 0.9735 - val_loss: 0.5584 - val_accuracy: 0.8263\n",
            "Epoch 11/20\n",
            "38/38 [==============================] - 47s 1s/step - loss: 0.2177 - accuracy: 0.9837 - val_loss: 0.5243 - val_accuracy: 0.8268\n",
            "Epoch 12/20\n",
            "38/38 [==============================] - 45s 1s/step - loss: 0.1856 - accuracy: 0.9870 - val_loss: 0.5478 - val_accuracy: 0.8234\n",
            "Epoch 13/20\n",
            "38/38 [==============================] - 44s 1s/step - loss: 0.1601 - accuracy: 0.9916 - val_loss: 0.5110 - val_accuracy: 0.8229\n",
            "Epoch 14/20\n",
            "38/38 [==============================] - 45s 1s/step - loss: 0.1448 - accuracy: 0.9944 - val_loss: 0.5024 - val_accuracy: 0.8239\n",
            "Epoch 15/20\n",
            "38/38 [==============================] - 43s 1s/step - loss: 0.1295 - accuracy: 0.9953 - val_loss: 0.5169 - val_accuracy: 0.8263\n",
            "Epoch 16/20\n",
            "38/38 [==============================] - 59s 2s/step - loss: 0.1177 - accuracy: 0.9942 - val_loss: 0.5108 - val_accuracy: 0.8321\n",
            "Epoch 17/20\n",
            "38/38 [==============================] - 71s 2s/step - loss: 0.1094 - accuracy: 0.9965 - val_loss: 0.5340 - val_accuracy: 0.8277\n",
            "Epoch 18/20\n",
            "38/38 [==============================] - 48s 1s/step - loss: 0.1013 - accuracy: 0.9969 - val_loss: 0.5657 - val_accuracy: 0.8201\n",
            "Epoch 19/20\n",
            "38/38 [==============================] - 48s 1s/step - loss: 0.0927 - accuracy: 0.9971 - val_loss: 0.5028 - val_accuracy: 0.8301\n",
            "Epoch 20/20\n",
            "38/38 [==============================] - 53s 1s/step - loss: 0.0859 - accuracy: 0.9973 - val_loss: 0.5005 - val_accuracy: 0.8306\n"
          ]
        }
      ],
      "source": [
        "hist_4 = lst_mod4.fit(X_train, y_train,\n",
        "                    validation_split = 0.3,\n",
        "                    epochs=20, batch_size=128)"
      ]
    },
    {
      "cell_type": "code",
      "execution_count": null,
      "metadata": {
        "id": "iMCIHG29XhGD"
      },
      "outputs": [],
      "source": [
        "# Plot train/test loss and accuracy\n",
        "plotLoss(hist_4)"
      ]
    },
    {
      "cell_type": "code",
      "execution_count": null,
      "metadata": {
        "id": "fhCiw8rGhOLj"
      },
      "outputs": [],
      "source": []
    },
    {
      "cell_type": "code",
      "execution_count": null,
      "metadata": {
        "colab": {
          "base_uri": "https://localhost:8080/"
        },
        "id": "qg8a23FaiaP3",
        "outputId": "45b9d93a-0e4a-4c65-909d-ab4b6ce53e74"
      },
      "outputs": [
        {
          "name": "stdout",
          "output_type": "stream",
          "text": [
            "94/94 [==============================] - 8s 86ms/step\n"
          ]
        },
        {
          "data": {
            "text/plain": [
              "array([[0.38036445],\n",
              "       [0.05021066],\n",
              "       [0.98511904],\n",
              "       ...,\n",
              "       [0.1427005 ],\n",
              "       [0.01356566],\n",
              "       [0.01243962]], dtype=float32)"
            ]
          },
          "execution_count": 58,
          "metadata": {},
          "output_type": "execute_result"
        }
      ],
      "source": [
        "predictions = lst_mod4.predict(X_test)\n",
        "predictions"
      ]
    },
    {
      "cell_type": "code",
      "execution_count": null,
      "metadata": {
        "colab": {
          "base_uri": "https://localhost:8080/"
        },
        "id": "scPoWmtRiaQC",
        "outputId": "d814f7d9-b8b7-4994-cfe9-34357da0fbff"
      },
      "outputs": [
        {
          "data": {
            "text/plain": [
              "array([[0.],\n",
              "       [0.],\n",
              "       [1.],\n",
              "       ...,\n",
              "       [0.],\n",
              "       [0.],\n",
              "       [0.]], dtype=float32)"
            ]
          },
          "execution_count": 59,
          "metadata": {},
          "output_type": "execute_result"
        }
      ],
      "source": [
        "predictions.round()"
      ]
    },
    {
      "cell_type": "code",
      "execution_count": null,
      "metadata": {
        "colab": {
          "base_uri": "https://localhost:8080/"
        },
        "id": "-H9i7LhRiaQC",
        "outputId": "6ca2b434-059b-47b3-a25c-ddf43fcb679d"
      },
      "outputs": [
        {
          "data": {
            "text/plain": [
              "2084    1\n",
              "4605    0\n",
              "8411    1\n",
              "4149    1\n",
              "2875    0\n",
              "       ..\n",
              "9150    0\n",
              "7954    1\n",
              "7639    1\n",
              "2114    0\n",
              "8620    0\n",
              "Name: is_hate_speech, Length: 2977, dtype: int64"
            ]
          },
          "execution_count": 60,
          "metadata": {},
          "output_type": "execute_result"
        }
      ],
      "source": [
        "y_test"
      ]
    },
    {
      "cell_type": "code",
      "execution_count": null,
      "metadata": {
        "colab": {
          "base_uri": "https://localhost:8080/"
        },
        "id": "heanaoB6iaQD",
        "outputId": "d371749a-a63a-4f05-8db0-a56511cb3bb6"
      },
      "outputs": [
        {
          "data": {
            "text/plain": [
              "2084    1.0\n",
              "4605    0.0\n",
              "8411    0.0\n",
              "4149    0.0\n",
              "2875    0.0\n",
              "       ... \n",
              "9150    0.0\n",
              "7954    0.0\n",
              "7639    1.0\n",
              "2114    0.0\n",
              "8620    0.0\n",
              "Name: is_hate_speech, Length: 2977, dtype: float64"
            ]
          },
          "execution_count": 61,
          "metadata": {},
          "output_type": "execute_result"
        }
      ],
      "source": [
        "import numpy as np\n",
        "errors = y_test-predictions.round().flatten()\n",
        "errors"
      ]
    },
    {
      "cell_type": "code",
      "execution_count": null,
      "metadata": {
        "colab": {
          "base_uri": "https://localhost:8080/"
        },
        "id": "l99s3VSRiaQD",
        "outputId": "72621d89-7c63-441b-f1cd-f199e5da073d"
      },
      "outputs": [
        {
          "data": {
            "text/plain": [
              "2481"
            ]
          },
          "execution_count": 62,
          "metadata": {},
          "output_type": "execute_result"
        }
      ],
      "source": [
        "len(errors[errors==0])"
      ]
    },
    {
      "cell_type": "code",
      "execution_count": null,
      "metadata": {
        "colab": {
          "base_uri": "https://localhost:8080/"
        },
        "id": "eJ5m94_biaQD",
        "outputId": "bc5df88c-fcb4-421b-fba8-e99cb79ab31f"
      },
      "outputs": [
        {
          "data": {
            "text/plain": [
              "0.8333893181054753"
            ]
          },
          "execution_count": 63,
          "metadata": {},
          "output_type": "execute_result"
        }
      ],
      "source": [
        "len(errors[errors==0])/len(errors)"
      ]
    },
    {
      "cell_type": "code",
      "execution_count": null,
      "metadata": {
        "id": "0IRUCB3fiaQD"
      },
      "outputs": [],
      "source": [
        "predicted_labels = [int(a) for a in predictions.round()]"
      ]
    },
    {
      "cell_type": "code",
      "execution_count": null,
      "metadata": {
        "colab": {
          "base_uri": "https://localhost:8080/"
        },
        "id": "Fl5NRqpfiaQD",
        "outputId": "7e270cee-7b7a-4ba1-b71e-03a463993110"
      },
      "outputs": [
        {
          "name": "stdout",
          "output_type": "stream",
          "text": [
            "              precision    recall  f1-score   support\n",
            "\n",
            "           0       0.83      0.94      0.88      1996\n",
            "           1       0.83      0.62      0.71       981\n",
            "\n",
            "    accuracy                           0.83      2977\n",
            "   macro avg       0.83      0.78      0.80      2977\n",
            "weighted avg       0.83      0.83      0.83      2977\n",
            "\n"
          ]
        }
      ],
      "source": [
        "from sklearn.metrics import classification_report\n",
        "print(classification_report(y_test, predicted_labels))"
      ]
    },
    {
      "cell_type": "code",
      "execution_count": null,
      "metadata": {
        "id": "LR_af8AVO8Vy"
      },
      "outputs": [],
      "source": [
        "conf_matrix = confusion_matrix(y_test, predicted_labels)\n",
        "\n",
        "# Plot della confusion matrix utilizzando seaborn e matplotlib\n",
        "class_names = [\"No Hate\", \"Hate\"]\n",
        "sns.heatmap(conf_matrix, annot=True, fmt=\"d\", cmap=\"Blues\", xticklabels=class_names, yticklabels=class_names)\n",
        "plt.title('Confusion Matrix')\n",
        "plt.xlabel('Predicted')\n",
        "plt.ylabel('True')\n",
        "plt.show()"
      ]
    },
    {
      "cell_type": "code",
      "execution_count": null,
      "metadata": {
        "id": "R593PFS-QDzw"
      },
      "outputs": [],
      "source": [
        "fpr, tpr, thresholds = roc_curve(y_test, predicted_labels)\n",
        "\n",
        "# Calcola l'area sotto la curva ROC (AUC)\n",
        "roc_auc = auc(fpr, tpr)\n",
        "\n",
        "# Plot della curva ROC\n",
        "plt.figure()\n",
        "plt.plot(fpr, tpr, color='darkorange', lw=2, label='ROC curve (area = {:.2f})'.format(roc_auc))\n",
        "plt.plot([0, 1], [0, 1], color='navy', lw=2, linestyle='--')\n",
        "plt.xlim([0.0, 1.0])\n",
        "plt.ylim([0.0, 1.05])\n",
        "plt.xlabel('False Positive Rate')\n",
        "plt.ylabel('True Positive Rate')\n",
        "plt.title('Receiver Operating Characteristic (ROC) Curve')\n",
        "plt.legend(loc=\"lower right\")\n",
        "plt.show()"
      ]
    },
    {
      "cell_type": "markdown",
      "metadata": {
        "id": "P7gwsh5JJUyc"
      },
      "source": [
        "## MODELLO 3 CON 2 LAYER LSTM\n",
        "\n"
      ]
    },
    {
      "cell_type": "code",
      "execution_count": null,
      "metadata": {
        "colab": {
          "base_uri": "https://localhost:8080/"
        },
        "id": "KouDQjWtJG-5",
        "outputId": "48fd3f69-7465-46c3-be11-a0be43def9d8"
      },
      "outputs": [
        {
          "data": {
            "text/plain": [
              "<bound method Model.summary of <keras.src.engine.sequential.Sequential object at 0x78e0d0436830>>"
            ]
          },
          "execution_count": 67,
          "metadata": {},
          "output_type": "execute_result"
        }
      ],
      "source": [
        "lstm_5 = Sequential()\n",
        "lstm_5.add(Embedding(max_features, embedding_dims))\n",
        "#lstm_5.add(Dropout(0.2))\n",
        "lstm_5.add(LSTM(16,\n",
        "               dropout = 0.2,\n",
        "               recurrent_dropout = 0.5, return_sequences=True, kernel_regularizer= l2(0.25), recurrent_regularizer=l2(0.25)))\n",
        "#lstm_5.add(Dropout(0.2))\n",
        "lstm_5.add(LSTM(8,\n",
        "               dropout = 0.2,\n",
        "               recurrent_dropout = 0.5, kernel_regularizer= l2(0.25), recurrent_regularizer=l2(0.25)))\n",
        "lstm_5.add(Dense(1, activation='sigmoid'))\n",
        "lstm_5.compile(optimizer='adam', loss='binary_crossentropy', metrics=['accuracy'])\n",
        "lstm_5.summary"
      ]
    },
    {
      "cell_type": "code",
      "execution_count": null,
      "metadata": {
        "colab": {
          "base_uri": "https://localhost:8080/"
        },
        "id": "mh5jH2FDJG-5",
        "outputId": "a7a5934b-d24a-4737-f80f-adfe715c71c0"
      },
      "outputs": [
        {
          "name": "stdout",
          "output_type": "stream",
          "text": [
            "Epoch 1/20\n",
            "10/10 [==============================] - 127s 13s/step - loss: 0.6799 - accuracy: 0.6589 - val_loss: 0.6639 - val_accuracy: 0.6583\n",
            "Epoch 2/20\n",
            "10/10 [==============================] - 53s 5s/step - loss: 0.6406 - accuracy: 0.6754 - val_loss: 0.6425 - val_accuracy: 0.6583\n",
            "Epoch 3/20\n",
            "10/10 [==============================] - 47s 5s/step - loss: 0.6084 - accuracy: 0.6754 - val_loss: 0.6257 - val_accuracy: 0.6583\n",
            "Epoch 4/20\n",
            "10/10 [==============================] - 51s 5s/step - loss: 0.5650 - accuracy: 0.6846 - val_loss: 0.5905 - val_accuracy: 0.6943\n",
            "Epoch 5/20\n",
            "10/10 [==============================] - 51s 5s/step - loss: 0.4900 - accuracy: 0.7760 - val_loss: 0.5559 - val_accuracy: 0.7394\n",
            "Epoch 6/20\n",
            "10/10 [==============================] - 47s 5s/step - loss: 0.3940 - accuracy: 0.8792 - val_loss: 0.5345 - val_accuracy: 0.7567\n",
            "Epoch 7/20\n",
            "10/10 [==============================] - 49s 5s/step - loss: 0.3066 - accuracy: 0.9385 - val_loss: 0.5992 - val_accuracy: 0.7087\n",
            "Epoch 8/20\n",
            "10/10 [==============================] - 50s 5s/step - loss: 0.2600 - accuracy: 0.9494 - val_loss: 0.5484 - val_accuracy: 0.7524\n",
            "Epoch 9/20\n",
            "10/10 [==============================] - 48s 5s/step - loss: 0.2096 - accuracy: 0.9731 - val_loss: 0.5413 - val_accuracy: 0.7668\n",
            "Epoch 10/20\n",
            "10/10 [==============================] - 49s 5s/step - loss: 0.1761 - accuracy: 0.9815 - val_loss: 0.5583 - val_accuracy: 0.7543\n",
            "Epoch 11/20\n",
            "10/10 [==============================] - 50s 5s/step - loss: 0.1514 - accuracy: 0.9835 - val_loss: 0.5726 - val_accuracy: 0.7534\n",
            "Epoch 12/20\n",
            "10/10 [==============================] - 46s 5s/step - loss: 0.1318 - accuracy: 0.9860 - val_loss: 0.5879 - val_accuracy: 0.7380\n",
            "Epoch 13/20\n",
            "10/10 [==============================] - 50s 5s/step - loss: 0.1171 - accuracy: 0.9872 - val_loss: 0.5957 - val_accuracy: 0.7442\n",
            "Epoch 14/20\n",
            "10/10 [==============================] - 50s 5s/step - loss: 0.1021 - accuracy: 0.9912 - val_loss: 0.5982 - val_accuracy: 0.7606\n",
            "Epoch 15/20\n",
            "10/10 [==============================] - 45s 5s/step - loss: 0.0901 - accuracy: 0.9940 - val_loss: 0.6157 - val_accuracy: 0.7476\n",
            "Epoch 16/20\n",
            "10/10 [==============================] - 47s 5s/step - loss: 0.0813 - accuracy: 0.9920 - val_loss: 0.6285 - val_accuracy: 0.7514\n",
            "Epoch 17/20\n",
            "10/10 [==============================] - 46s 5s/step - loss: 0.0742 - accuracy: 0.9928 - val_loss: 0.6302 - val_accuracy: 0.7678\n",
            "Epoch 18/20\n",
            "10/10 [==============================] - 45s 4s/step - loss: 0.0641 - accuracy: 0.9965 - val_loss: 0.6437 - val_accuracy: 0.7697\n",
            "Epoch 19/20\n",
            "10/10 [==============================] - 43s 4s/step - loss: 0.0575 - accuracy: 0.9967 - val_loss: 0.6702 - val_accuracy: 0.7553\n",
            "Epoch 20/20\n",
            "10/10 [==============================] - 49s 5s/step - loss: 0.0523 - accuracy: 0.9969 - val_loss: 0.6953 - val_accuracy: 0.7510\n"
          ]
        }
      ],
      "source": [
        "hist_5 = lstm_5.fit(X_train, y_train,\n",
        "                    validation_split = 0.3,\n",
        "                    epochs=20, batch_size=512)"
      ]
    },
    {
      "cell_type": "code",
      "execution_count": null,
      "metadata": {
        "id": "OCxILrXRJG-6"
      },
      "outputs": [],
      "source": [
        "# Plot train/test loss and accuracy\n",
        "plotLoss(hist_5)"
      ]
    },
    {
      "cell_type": "code",
      "execution_count": null,
      "metadata": {
        "id": "VFNgI4DLJMw0"
      },
      "outputs": [],
      "source": [
        "acc = hist_5.history['accuracy']\n",
        "val_acc = hist_5.history['val_accuracy']\n",
        "loss = hist_5.history['loss']\n",
        "val_loss = hist_5.history['val_loss']\n",
        "\n",
        "epochs = range(len(acc))\n",
        "\n",
        "plt.plot(epochs, acc, 'g', label='Training acc')\n",
        "plt.plot(epochs, val_acc, 'b', label='Validation acc')\n",
        "plt.title('Training and validation accuracy')\n",
        "plt.legend()\n",
        "\n",
        "plt.figure()\n",
        "\n",
        "plt.plot(epochs, loss, 'g', label='Training loss')\n",
        "plt.plot(epochs, val_loss, 'b', label='Validation loss')\n",
        "plt.title('Training and validation loss')\n",
        "plt.legend()\n",
        "plt.show()"
      ]
    },
    {
      "cell_type": "code",
      "execution_count": null,
      "metadata": {
        "colab": {
          "base_uri": "https://localhost:8080/"
        },
        "id": "gwd7oKL9JNB-",
        "outputId": "ddf852b7-a0ac-44c2-de3d-e432b8a47847"
      },
      "outputs": [
        {
          "name": "stdout",
          "output_type": "stream",
          "text": [
            "94/94 [==============================] - 14s 142ms/step\n"
          ]
        },
        {
          "data": {
            "text/plain": [
              "array([[0.09475287],\n",
              "       [0.507139  ],\n",
              "       [0.8650749 ],\n",
              "       ...,\n",
              "       [0.47934082],\n",
              "       [0.02365139],\n",
              "       [0.02053283]], dtype=float32)"
            ]
          },
          "execution_count": 71,
          "metadata": {},
          "output_type": "execute_result"
        }
      ],
      "source": [
        "predictions = lstm_5.predict(X_test)\n",
        "predictions"
      ]
    },
    {
      "cell_type": "code",
      "execution_count": null,
      "metadata": {
        "colab": {
          "base_uri": "https://localhost:8080/"
        },
        "id": "WIqwO-4uJNB-",
        "outputId": "85797016-47a6-467b-f849-74f76a638b42"
      },
      "outputs": [
        {
          "data": {
            "text/plain": [
              "array([[0.],\n",
              "       [1.],\n",
              "       [1.],\n",
              "       ...,\n",
              "       [0.],\n",
              "       [0.],\n",
              "       [0.]], dtype=float32)"
            ]
          },
          "execution_count": 72,
          "metadata": {},
          "output_type": "execute_result"
        }
      ],
      "source": [
        "predictions.round()"
      ]
    },
    {
      "cell_type": "code",
      "execution_count": null,
      "metadata": {
        "colab": {
          "base_uri": "https://localhost:8080/"
        },
        "id": "h-gBDBu4JNB_",
        "outputId": "944bf169-5545-42d9-8f09-1fd6bd4385dc"
      },
      "outputs": [
        {
          "data": {
            "text/plain": [
              "2084    1\n",
              "4605    0\n",
              "8411    1\n",
              "4149    1\n",
              "2875    0\n",
              "       ..\n",
              "9150    0\n",
              "7954    1\n",
              "7639    1\n",
              "2114    0\n",
              "8620    0\n",
              "Name: is_hate_speech, Length: 2977, dtype: int64"
            ]
          },
          "execution_count": 73,
          "metadata": {},
          "output_type": "execute_result"
        }
      ],
      "source": [
        "y_test"
      ]
    },
    {
      "cell_type": "code",
      "execution_count": null,
      "metadata": {
        "colab": {
          "base_uri": "https://localhost:8080/"
        },
        "id": "naPWuMBAJNB_",
        "outputId": "b80de6f7-a93d-4e81-d86e-f7a6602aca9d"
      },
      "outputs": [
        {
          "data": {
            "text/plain": [
              "2084    1.0\n",
              "4605   -1.0\n",
              "8411    0.0\n",
              "4149    0.0\n",
              "2875    0.0\n",
              "       ... \n",
              "9150    0.0\n",
              "7954    0.0\n",
              "7639    1.0\n",
              "2114    0.0\n",
              "8620    0.0\n",
              "Name: is_hate_speech, Length: 2977, dtype: float64"
            ]
          },
          "execution_count": 74,
          "metadata": {},
          "output_type": "execute_result"
        }
      ],
      "source": [
        "import numpy as np\n",
        "errors = y_test-predictions.round().flatten()\n",
        "errors"
      ]
    },
    {
      "cell_type": "code",
      "execution_count": null,
      "metadata": {
        "colab": {
          "base_uri": "https://localhost:8080/"
        },
        "id": "yf2A7o_QJNB_",
        "outputId": "4dc41e96-f61a-4fe6-e985-5ded2b6ca805"
      },
      "outputs": [
        {
          "data": {
            "text/plain": [
              "2215"
            ]
          },
          "execution_count": 75,
          "metadata": {},
          "output_type": "execute_result"
        }
      ],
      "source": [
        "len(errors[errors==0])"
      ]
    },
    {
      "cell_type": "code",
      "execution_count": null,
      "metadata": {
        "colab": {
          "base_uri": "https://localhost:8080/"
        },
        "id": "IFqkvfU7JNB_",
        "outputId": "eed62a0c-7782-4eed-d361-8298d2d06f0b"
      },
      "outputs": [
        {
          "data": {
            "text/plain": [
              "0.7440376217668794"
            ]
          },
          "execution_count": 76,
          "metadata": {},
          "output_type": "execute_result"
        }
      ],
      "source": [
        "len(errors[errors==0])/len(errors)"
      ]
    },
    {
      "cell_type": "code",
      "execution_count": null,
      "metadata": {
        "id": "2Fgc9LexJNB_"
      },
      "outputs": [],
      "source": [
        "predicted_labels3 = [int(a) for a in predictions.round()]"
      ]
    },
    {
      "cell_type": "code",
      "execution_count": null,
      "metadata": {
        "colab": {
          "base_uri": "https://localhost:8080/"
        },
        "id": "K99RrzUoJNCA",
        "outputId": "90d3553a-1511-4564-ab42-a71ce6c1740f"
      },
      "outputs": [
        {
          "name": "stdout",
          "output_type": "stream",
          "text": [
            "              precision    recall  f1-score   support\n",
            "\n",
            "           0       0.81      0.81      0.81      1996\n",
            "           1       0.61      0.62      0.61       981\n",
            "\n",
            "    accuracy                           0.74      2977\n",
            "   macro avg       0.71      0.71      0.71      2977\n",
            "weighted avg       0.75      0.74      0.74      2977\n",
            "\n"
          ]
        }
      ],
      "source": [
        "from sklearn.metrics import classification_report\n",
        "print(classification_report(y_test, predicted_labels3))"
      ]
    },
    {
      "cell_type": "markdown",
      "metadata": {
        "id": "giMrmmmrJag-"
      },
      "source": [
        "# CNN\n",
        "\n"
      ]
    },
    {
      "cell_type": "code",
      "execution_count": 16,
      "metadata": {
        "colab": {
          "base_uri": "https://localhost:8080/"
        },
        "id": "4bCx_dE1Je8l",
        "outputId": "5458a5a1-46cf-47e5-a9f9-4e03ec7da1e3"
      },
      "outputs": [
        {
          "output_type": "stream",
          "name": "stdout",
          "text": [
            "Requirement already satisfied: transformers in /usr/local/lib/python3.10/dist-packages (4.35.2)\n",
            "Requirement already satisfied: filelock in /usr/local/lib/python3.10/dist-packages (from transformers) (3.13.1)\n",
            "Requirement already satisfied: huggingface-hub<1.0,>=0.16.4 in /usr/local/lib/python3.10/dist-packages (from transformers) (0.19.4)\n",
            "Requirement already satisfied: numpy>=1.17 in /usr/local/lib/python3.10/dist-packages (from transformers) (1.23.5)\n",
            "Requirement already satisfied: packaging>=20.0 in /usr/local/lib/python3.10/dist-packages (from transformers) (23.2)\n",
            "Requirement already satisfied: pyyaml>=5.1 in /usr/local/lib/python3.10/dist-packages (from transformers) (6.0.1)\n",
            "Requirement already satisfied: regex!=2019.12.17 in /usr/local/lib/python3.10/dist-packages (from transformers) (2023.6.3)\n",
            "Requirement already satisfied: requests in /usr/local/lib/python3.10/dist-packages (from transformers) (2.31.0)\n",
            "Requirement already satisfied: tokenizers<0.19,>=0.14 in /usr/local/lib/python3.10/dist-packages (from transformers) (0.15.0)\n",
            "Requirement already satisfied: safetensors>=0.3.1 in /usr/local/lib/python3.10/dist-packages (from transformers) (0.4.1)\n",
            "Requirement already satisfied: tqdm>=4.27 in /usr/local/lib/python3.10/dist-packages (from transformers) (4.66.1)\n",
            "Requirement already satisfied: fsspec>=2023.5.0 in /usr/local/lib/python3.10/dist-packages (from huggingface-hub<1.0,>=0.16.4->transformers) (2023.6.0)\n",
            "Requirement already satisfied: typing-extensions>=3.7.4.3 in /usr/local/lib/python3.10/dist-packages (from huggingface-hub<1.0,>=0.16.4->transformers) (4.5.0)\n",
            "Requirement already satisfied: charset-normalizer<4,>=2 in /usr/local/lib/python3.10/dist-packages (from requests->transformers) (3.3.2)\n",
            "Requirement already satisfied: idna<4,>=2.5 in /usr/local/lib/python3.10/dist-packages (from requests->transformers) (3.6)\n",
            "Requirement already satisfied: urllib3<3,>=1.21.1 in /usr/local/lib/python3.10/dist-packages (from requests->transformers) (2.0.7)\n",
            "Requirement already satisfied: certifi>=2017.4.17 in /usr/local/lib/python3.10/dist-packages (from requests->transformers) (2023.11.17)\n"
          ]
        }
      ],
      "source": [
        "!pip install transformers\n"
      ]
    },
    {
      "cell_type": "code",
      "execution_count": 17,
      "metadata": {
        "colab": {
          "base_uri": "https://localhost:8080/"
        },
        "id": "b9HGsdvlR0QW",
        "outputId": "b7de081a-90b9-4da5-8aac-04714109328c"
      },
      "outputs": [
        {
          "output_type": "stream",
          "name": "stdout",
          "text": [
            "Requirement already satisfied: torch in /usr/local/lib/python3.10/dist-packages (2.1.0+cu118)\n",
            "Requirement already satisfied: torchvision in /usr/local/lib/python3.10/dist-packages (0.16.0+cu118)\n",
            "Requirement already satisfied: filelock in /usr/local/lib/python3.10/dist-packages (from torch) (3.13.1)\n",
            "Requirement already satisfied: typing-extensions in /usr/local/lib/python3.10/dist-packages (from torch) (4.5.0)\n",
            "Requirement already satisfied: sympy in /usr/local/lib/python3.10/dist-packages (from torch) (1.12)\n",
            "Requirement already satisfied: networkx in /usr/local/lib/python3.10/dist-packages (from torch) (3.2.1)\n",
            "Requirement already satisfied: jinja2 in /usr/local/lib/python3.10/dist-packages (from torch) (3.1.2)\n",
            "Requirement already satisfied: fsspec in /usr/local/lib/python3.10/dist-packages (from torch) (2023.6.0)\n",
            "Requirement already satisfied: triton==2.1.0 in /usr/local/lib/python3.10/dist-packages (from torch) (2.1.0)\n",
            "Requirement already satisfied: numpy in /usr/local/lib/python3.10/dist-packages (from torchvision) (1.23.5)\n",
            "Requirement already satisfied: requests in /usr/local/lib/python3.10/dist-packages (from torchvision) (2.31.0)\n",
            "Requirement already satisfied: pillow!=8.3.*,>=5.3.0 in /usr/local/lib/python3.10/dist-packages (from torchvision) (9.4.0)\n",
            "Requirement already satisfied: MarkupSafe>=2.0 in /usr/local/lib/python3.10/dist-packages (from jinja2->torch) (2.1.3)\n",
            "Requirement already satisfied: charset-normalizer<4,>=2 in /usr/local/lib/python3.10/dist-packages (from requests->torchvision) (3.3.2)\n",
            "Requirement already satisfied: idna<4,>=2.5 in /usr/local/lib/python3.10/dist-packages (from requests->torchvision) (3.6)\n",
            "Requirement already satisfied: urllib3<3,>=1.21.1 in /usr/local/lib/python3.10/dist-packages (from requests->torchvision) (2.0.7)\n",
            "Requirement already satisfied: certifi>=2017.4.17 in /usr/local/lib/python3.10/dist-packages (from requests->torchvision) (2023.11.17)\n",
            "Requirement already satisfied: mpmath>=0.19 in /usr/local/lib/python3.10/dist-packages (from sympy->torch) (1.3.0)\n"
          ]
        }
      ],
      "source": [
        "!pip3 install torch torchvision"
      ]
    },
    {
      "cell_type": "code",
      "execution_count": 18,
      "metadata": {
        "id": "xP-s9HCoR0TL"
      },
      "outputs": [],
      "source": [
        "from keras.preprocessing import sequence\n",
        "from keras.models import Sequential\n",
        "from keras.layers import Dense, Embedding\n",
        "from keras.layers import LSTM\n",
        "from keras.utils import pad_sequences\n",
        "import matplotlib.pyplot as plt\n",
        "import seaborn as sns\n",
        "import numpy as np\n",
        "from gensim.models.doc2vec import TaggedDocument\n",
        "import re\n",
        "import csv\n",
        "from sklearn.model_selection import train_test_split\n",
        "from tensorflow.keras.preprocessing.text import Tokenizer\n",
        "import nltk\n",
        "import string\n",
        "import re\n",
        "from nltk.tokenize import word_tokenize\n",
        "from collections import Counter, OrderedDict\n",
        "from nltk.corpus import stopwords\n",
        "from nltk.tokenize import word_tokenize\n",
        "from nltk.stem import WordNetLemmatizer\n",
        "from nltk.tokenize import word_tokenize\n",
        "from nltk.sentiment.vader import SentimentIntensityAnalyzer\n",
        "from textblob import TextBlob\n",
        "from sklearn.metrics import confusion_matrix, accuracy_score, precision_score, recall_score, f1_score, roc_curve, auc\n",
        "from sklearn.preprocessing import LabelEncoder\n",
        "from sklearn.model_selection import train_test_split\n",
        "from sklearn.feature_extraction.text import TfidfTransformer, CountVectorizer\n",
        "from sklearn.svm import LinearSVC\n",
        "from sklearn.metrics import classification_report\n",
        "from sklearn.feature_selection import SelectKBest, chi2\n",
        "from sklearn.feature_extraction.text import TfidfVectorizer\n",
        "import matplotlib.pyplot as plt\n",
        "from keras.preprocessing import sequence\n",
        "from tensorflow.keras.utils import to_categorical\n",
        "from tensorflow.keras.layers import Embedding\n",
        "from tensorflow.keras.models import Sequential\n",
        "from tensorflow.keras.layers import Dense\n",
        "from tensorflow.keras.layers import Flatten\n",
        "from tensorflow.keras.layers import LSTM\n",
        "from tensorflow.keras.layers import GRU\n",
        "from tensorflow.keras.layers import BatchNormalization\n",
        "from keras.layers import Conv1D, GlobalMaxPooling1D\n",
        "from sklearn.datasets import load_digits\n",
        "from sklearn.feature_selection import SelectKBest, chi2\n",
        "from tensorflow.keras.preprocessing.text import Tokenizer\n",
        "from tensorflow.keras.preprocessing.text import text_to_word_sequence\n",
        "from tensorflow.keras.preprocessing.sequence import pad_sequences\n",
        "from tensorflow.keras.layers import SpatialDropout1D\n",
        "from keras import backend as K\n",
        "from tensorflow.keras import models\n",
        "from keras.layers import Bidirectional\n"
      ]
    },
    {
      "cell_type": "code",
      "execution_count": 19,
      "metadata": {
        "id": "X3vdHxI_R0WT"
      },
      "outputs": [],
      "source": [
        "import torch\n",
        "from transformers import BertTokenizer, BertConfig\n",
        "from transformers import BertForSequenceClassification\n",
        "from transformers import AdamW, get_linear_schedule_with_warmup\n",
        "from distutils.version import LooseVersion as LV\n",
        "from sklearn.model_selection import train_test_split\n",
        "import io\n",
        "import os\n",
        "import matplotlib\n",
        "import matplotlib.pyplot as plt\n",
        "import seaborn as sns\n",
        "from keras.preprocessing import sequence\n",
        "from keras.models import Sequential\n",
        "from keras.layers import Dense, Dropout, Activation, Input\n",
        "from keras.layers import Embedding\n",
        "from keras.layers import Conv1D, GlobalMaxPooling1D\n",
        "from keras.utils import pad_sequences"
      ]
    },
    {
      "cell_type": "markdown",
      "metadata": {
        "id": "aSprDcld-jWP"
      },
      "source": [
        "## CNN MODEL 1"
      ]
    },
    {
      "cell_type": "code",
      "source": [
        "X_train.shape"
      ],
      "metadata": {
        "colab": {
          "base_uri": "https://localhost:8080/"
        },
        "id": "Hb-uFeq29jmK",
        "outputId": "40280e65-3c09-4bfe-ea73-d1b3915e7d25"
      },
      "execution_count": 20,
      "outputs": [
        {
          "output_type": "execute_result",
          "data": {
            "text/plain": [
              "(6945, 500)"
            ]
          },
          "metadata": {},
          "execution_count": 20
        }
      ]
    },
    {
      "cell_type": "code",
      "execution_count": 23,
      "metadata": {
        "id": "sm2xtlU8Zbv7"
      },
      "outputs": [],
      "source": [
        "#N-F/S+1\n",
        "from keras.regularizers import l2"
      ]
    },
    {
      "cell_type": "code",
      "execution_count": 24,
      "metadata": {
        "id": "xFWnAyj1R4zu"
      },
      "outputs": [],
      "source": [
        "filters = 70 # dimensionality of the output space\n",
        "kernel_size = 50 # height and width of the convolution window\n",
        "maxle=100"
      ]
    },
    {
      "cell_type": "code",
      "execution_count": 25,
      "metadata": {
        "colab": {
          "base_uri": "https://localhost:8080/"
        },
        "id": "3_fErub3QvdC",
        "outputId": "b0ad4f62-08af-4d9c-b5e2-7cabc05efbfa"
      },
      "outputs": [
        {
          "output_type": "stream",
          "name": "stdout",
          "text": [
            "Build model...\n",
            "Model: \"sequential_1\"\n",
            "_________________________________________________________________\n",
            " Layer (type)                Output Shape              Param #   \n",
            "=================================================================\n",
            " embedding_1 (Embedding)     (None, None, 100)         3000000   \n",
            "                                                                 \n",
            " dropout_1 (Dropout)         (None, None, 100)         0         \n",
            "                                                                 \n",
            " conv1d (Conv1D)             (None, None, 70)          350070    \n",
            "                                                                 \n",
            " global_max_pooling1d (Glob  (None, 70)                0         \n",
            " alMaxPooling1D)                                                 \n",
            "                                                                 \n",
            " dense (Dense)               (None, 20)                1420      \n",
            "                                                                 \n",
            " dropout_2 (Dropout)         (None, 20)                0         \n",
            "                                                                 \n",
            " activation (Activation)     (None, 20)                0         \n",
            "                                                                 \n",
            " dense_1 (Dense)             (None, 20)                420       \n",
            "                                                                 \n",
            " dropout_3 (Dropout)         (None, 20)                0         \n",
            "                                                                 \n",
            " activation_1 (Activation)   (None, 20)                0         \n",
            "                                                                 \n",
            " dense_2 (Dense)             (None, 1)                 21        \n",
            "                                                                 \n",
            " activation_2 (Activation)   (None, 1)                 0         \n",
            "                                                                 \n",
            "=================================================================\n",
            "Total params: 3351931 (12.79 MB)\n",
            "Trainable params: 3351931 (12.79 MB)\n",
            "Non-trainable params: 0 (0.00 Byte)\n",
            "_________________________________________________________________\n"
          ]
        }
      ],
      "source": [
        "print('Build model...')\n",
        "cnn = Sequential()\n",
        "\n",
        "# We start off with an efficient embedding layer which maps our vocab indices\n",
        "# into embedding_dims dimensions\n",
        "cnn.add(Embedding(max_features, embedding_dims))\n",
        "\n",
        "cnn.add(Dropout(0.2))\n",
        "\n",
        "# We add a Convolution1D, which will learn\n",
        "# word group filters of size filter_length:\n",
        "\n",
        "# This layer creates a convolution kernel that is convolved with the layer input\n",
        "# over a single spatial (or temporal) dimension to produce a tensor of outputs\n",
        "cnn.add(Conv1D(filters,\n",
        "                 kernel_size,\n",
        "                 padding='valid',\n",
        "                 activation='relu',\n",
        "                 strides=1, kernel_regularizer=l2(0.01)))\n",
        "\n",
        "# We use max pooling:\n",
        "cnn.add(GlobalMaxPooling1D())\n",
        "\n",
        "# We add a vanilla hidden layer:\n",
        "cnn.add(Dense(hidden_dims,\n",
        "              kernel_regularizer=l2(0.01)))\n",
        "cnn.add(Dropout(0.2))\n",
        "cnn.add(Activation('relu'))\n",
        "\n",
        "# We add the second vanilla hidden layer:\n",
        "cnn.add(Dense(hidden_dims,\n",
        "              kernel_regularizer=l2(0.01)))\n",
        "cnn.add(Dropout(0.2))\n",
        "cnn.add(Activation('relu'))\n",
        "\n",
        "# We project onto a single unit output layer, and squash it with a sigmoid:\n",
        "cnn.add(Dense(1,\n",
        "              kernel_regularizer=l2(0.01)))\n",
        "cnn.add(Activation('sigmoid'))\n",
        "\n",
        "cnn.compile(loss='binary_crossentropy',\n",
        "              optimizer='adam',\n",
        "              metrics=['accuracy'])\n",
        "\n",
        "cnn.summary()"
      ]
    },
    {
      "cell_type": "code",
      "source": [
        "epochs = 20\n",
        "cnn_1=cnn.fit(X_train, y_train,\n",
        "          batch_size=512,\n",
        "          epochs=epochs,\n",
        "          shuffle=True,\n",
        "          validation_split=0.2)"
      ],
      "metadata": {
        "colab": {
          "base_uri": "https://localhost:8080/"
        },
        "id": "H4U1hjCYBsu_",
        "outputId": "0cbf9b92-b901-4d7d-d3ae-eb2832400da1"
      },
      "execution_count": 27,
      "outputs": [
        {
          "output_type": "stream",
          "name": "stdout",
          "text": [
            "Epoch 1/20\n",
            "11/11 [==============================] - 155s 14s/step - loss: 1.5921 - accuracy: 0.6424 - val_loss: 1.2728 - val_accuracy: 0.6695\n",
            "Epoch 2/20\n",
            "11/11 [==============================] - 151s 13s/step - loss: 1.1701 - accuracy: 0.6634 - val_loss: 1.0786 - val_accuracy: 0.6695\n",
            "Epoch 3/20\n",
            "11/11 [==============================] - 151s 14s/step - loss: 1.0499 - accuracy: 0.6668 - val_loss: 1.0175 - val_accuracy: 0.6695\n",
            "Epoch 4/20\n",
            "11/11 [==============================] - 148s 14s/step - loss: 1.0028 - accuracy: 0.6683 - val_loss: 0.9766 - val_accuracy: 0.6695\n",
            "Epoch 5/20\n",
            "11/11 [==============================] - 152s 14s/step - loss: 0.9592 - accuracy: 0.6704 - val_loss: 0.9357 - val_accuracy: 0.6695\n",
            "Epoch 6/20\n",
            "11/11 [==============================] - 146s 13s/step - loss: 0.9223 - accuracy: 0.6703 - val_loss: 0.9038 - val_accuracy: 0.6695\n",
            "Epoch 7/20\n",
            "11/11 [==============================] - 146s 13s/step - loss: 0.8915 - accuracy: 0.6704 - val_loss: 0.8735 - val_accuracy: 0.6695\n",
            "Epoch 8/20\n",
            "11/11 [==============================] - 149s 13s/step - loss: 0.8646 - accuracy: 0.6703 - val_loss: 0.8488 - val_accuracy: 0.6695\n",
            "Epoch 9/20\n",
            "11/11 [==============================] - 148s 14s/step - loss: 0.8417 - accuracy: 0.6704 - val_loss: 0.8265 - val_accuracy: 0.6695\n",
            "Epoch 10/20\n",
            "11/11 [==============================] - 147s 13s/step - loss: 0.8222 - accuracy: 0.6704 - val_loss: 0.8086 - val_accuracy: 0.6695\n",
            "Epoch 11/20\n",
            "11/11 [==============================] - 147s 14s/step - loss: 0.8002 - accuracy: 0.6704 - val_loss: 0.7883 - val_accuracy: 0.6695\n",
            "Epoch 12/20\n",
            "11/11 [==============================] - 149s 14s/step - loss: 0.7834 - accuracy: 0.6704 - val_loss: 0.7711 - val_accuracy: 0.6695\n",
            "Epoch 13/20\n",
            "11/11 [==============================] - 147s 13s/step - loss: 0.7676 - accuracy: 0.6704 - val_loss: 0.7568 - val_accuracy: 0.6695\n",
            "Epoch 14/20\n",
            "11/11 [==============================] - 154s 14s/step - loss: 0.7520 - accuracy: 0.6704 - val_loss: 0.7434 - val_accuracy: 0.6695\n",
            "Epoch 15/20\n",
            "11/11 [==============================] - 149s 14s/step - loss: 0.7388 - accuracy: 0.6704 - val_loss: 0.7316 - val_accuracy: 0.6695\n",
            "Epoch 16/20\n",
            "11/11 [==============================] - 147s 14s/step - loss: 0.7275 - accuracy: 0.6704 - val_loss: 0.7213 - val_accuracy: 0.6695\n",
            "Epoch 17/20\n",
            "11/11 [==============================] - 148s 14s/step - loss: 0.7170 - accuracy: 0.6704 - val_loss: 0.7117 - val_accuracy: 0.6695\n",
            "Epoch 18/20\n",
            "11/11 [==============================] - 146s 13s/step - loss: 0.7055 - accuracy: 0.6704 - val_loss: 0.7024 - val_accuracy: 0.6695\n",
            "Epoch 19/20\n",
            "11/11 [==============================] - 146s 13s/step - loss: 0.6931 - accuracy: 0.6704 - val_loss: 0.6928 - val_accuracy: 0.6695\n",
            "Epoch 20/20\n",
            "11/11 [==============================] - 146s 13s/step - loss: 0.6727 - accuracy: 0.6704 - val_loss: 0.6811 - val_accuracy: 0.6695\n"
          ]
        }
      ]
    },
    {
      "cell_type": "code",
      "execution_count": 27,
      "metadata": {
        "colab": {
          "base_uri": "https://localhost:8080/"
        },
        "id": "uWwc9FCS6dI1",
        "outputId": "69a4b569-6fc4-4321-8d47-6a4f54fdacad"
      },
      "outputs": [
        {
          "output_type": "stream",
          "name": "stdout",
          "text": [
            "94/94 [==============================] - 20s 212ms/step\n"
          ]
        }
      ],
      "source": [
        "predictions = cnn.predict(X_test)"
      ]
    },
    {
      "cell_type": "code",
      "execution_count": 28,
      "metadata": {
        "colab": {
          "base_uri": "https://localhost:8080/",
          "height": 887
        },
        "id": "1GdTwaDq6dI1",
        "outputId": "ee775487-c4e3-4597-f79a-df9e82cdab32"
      },
      "outputs": [
        {
          "output_type": "display_data",
          "data": {
            "text/plain": [
              "<Figure size 640x480 with 1 Axes>"
            ],
            "image/png": "[encoded data removed]"
          },
          "metadata": {}
        },
        {
          "output_type": "display_data",
          "data": {
            "text/plain": [
              "<Figure size 640x480 with 1 Axes>"
            ],
            "image/png": "[encoded data removed]"
          },
          "metadata": {}
        }
      ],
      "source": [
        "# Plot train/test loss and accuracy\n",
        "plotLoss(cnn_1)"
      ]
    },
    {
      "cell_type": "code",
      "execution_count": 29,
      "metadata": {
        "colab": {
          "base_uri": "https://localhost:8080/"
        },
        "id": "s1dnX5oE6dI1",
        "outputId": "5997b721-7421-4902-b2d6-842e91928150"
      },
      "outputs": [
        {
          "output_type": "stream",
          "name": "stdout",
          "text": [
            "Training Accuracy: 0.9840\n",
            "Testing Accuracy:  0.8482\n"
          ]
        }
      ],
      "source": [
        "# Find train and test f1\n",
        "loss, accuracy = cnn.evaluate(X_train, y_train, verbose=False)\n",
        "print(\"Training Accuracy: {:.4f}\".format(accuracy))\n",
        "loss, accuracy = cnn.evaluate(X_test, y_test, verbose=False)\n",
        "print(\"Testing Accuracy:  {:.4f}\".format(accuracy))"
      ]
    },
    {
      "cell_type": "code",
      "execution_count": 30,
      "metadata": {
        "colab": {
          "base_uri": "https://localhost:8080/"
        },
        "id": "e_hdOqan6dI2",
        "outputId": "e1a0c93d-1402-4ffa-8583-a2f8bc82f6c3"
      },
      "outputs": [
        {
          "output_type": "stream",
          "name": "stdout",
          "text": [
            "94/94 [==============================] - 21s 226ms/step\n",
            "94/94 [==============================] - 20s 212ms/step\n",
            "Accuracy 0.6704736311723212\n",
            "F1-score [0.80273477 0.        ]\n",
            "              precision    recall  f1-score   support\n",
            "\n",
            "           0       0.67      1.00      0.80      1996\n",
            "           1       0.00      0.00      0.00       981\n",
            "\n",
            "    accuracy                           0.67      2977\n",
            "   macro avg       0.34      0.50      0.40      2977\n",
            "weighted avg       0.45      0.67      0.54      2977\n",
            "\n"
          ]
        },
        {
          "output_type": "stream",
          "name": "stderr",
          "text": [
            "/usr/local/lib/python3.10/dist-packages/sklearn/metrics/_classification.py:1344: UndefinedMetricWarning: Precision and F-score are ill-defined and being set to 0.0 in labels with no predicted samples. Use `zero_division` parameter to control this behavior.\n",
            "  _warn_prf(average, modifier, msg_start, len(result))\n",
            "/usr/local/lib/python3.10/dist-packages/sklearn/metrics/_classification.py:1344: UndefinedMetricWarning: Precision and F-score are ill-defined and being set to 0.0 in labels with no predicted samples. Use `zero_division` parameter to control this behavior.\n",
            "  _warn_prf(average, modifier, msg_start, len(result))\n",
            "/usr/local/lib/python3.10/dist-packages/sklearn/metrics/_classification.py:1344: UndefinedMetricWarning: Precision and F-score are ill-defined and being set to 0.0 in labels with no predicted samples. Use `zero_division` parameter to control this behavior.\n",
            "  _warn_prf(average, modifier, msg_start, len(result))\n"
          ]
        }
      ],
      "source": [
        "y_pred = cnn.predict(X_test).astype(int)\n",
        "\n",
        "y_scores = cnn.predict(X_test)\n",
        "\n",
        "print('Accuracy %s' % accuracy_score(y_test, y_pred))\n",
        "\n",
        "print('F1-score %s' % f1_score(y_test, y_pred, average=None))\n",
        "\n",
        "print(classification_report(y_test, y_pred))"
      ]
    },
    {
      "cell_type": "markdown",
      "metadata": {
        "id": "Sf6OfmAxa9-w"
      },
      "source": [
        "## CNN MODELLO 1 BIS"
      ]
    },
    {
      "cell_type": "code",
      "execution_count": 31,
      "metadata": {
        "id": "xMdIZNcJa9mY"
      },
      "outputs": [],
      "source": [
        "##hyper parameters\n",
        "batch_size = 32\n",
        "embedding_dim = 300 #Length of the token vectors\n",
        "filter = 250 #number of filters in your Convnet\n",
        "kernel_siz = 3 # a window size of 3 tokens\n",
        "hidden_dims = 250 #number of neurons at the normal feedforward NN"
      ]
    },
    {
      "cell_type": "code",
      "execution_count": 31,
      "metadata": {
        "id": "FPQPAQudbFKv"
      },
      "outputs": [],
      "source": []
    },
    {
      "cell_type": "code",
      "execution_count": 32,
      "metadata": {
        "colab": {
          "base_uri": "https://localhost:8080/"
        },
        "id": "3XDrVNJYbKen",
        "outputId": "f76a75af-2a31-4285-f38b-aad671ea5c01"
      },
      "outputs": [
        {
          "output_type": "stream",
          "name": "stdout",
          "text": [
            "Build model...\n",
            "Model: \"sequential_1\"\n",
            "_________________________________________________________________\n",
            " Layer (type)                Output Shape              Param #   \n",
            "=================================================================\n",
            " embedding_1 (Embedding)     (None, None, 300)         9000000   \n",
            "                                                                 \n",
            " dropout_3 (Dropout)         (None, None, 300)         0         \n",
            "                                                                 \n",
            " conv1d_1 (Conv1D)           (None, None, 250)         225250    \n",
            "                                                                 \n",
            " global_max_pooling1d_1 (Gl  (None, 250)               0         \n",
            " obalMaxPooling1D)                                               \n",
            "                                                                 \n",
            " dense_3 (Dense)             (None, 250)               62750     \n",
            "                                                                 \n",
            " dropout_4 (Dropout)         (None, 250)               0         \n",
            "                                                                 \n",
            " activation_3 (Activation)   (None, 250)               0         \n",
            "                                                                 \n",
            " dense_4 (Dense)             (None, 250)               62750     \n",
            "                                                                 \n",
            " dropout_5 (Dropout)         (None, 250)               0         \n",
            "                                                                 \n",
            " activation_4 (Activation)   (None, 250)               0         \n",
            "                                                                 \n",
            " dense_5 (Dense)             (None, 1)                 251       \n",
            "                                                                 \n",
            " activation_5 (Activation)   (None, 1)                 0         \n",
            "                                                                 \n",
            "=================================================================\n",
            "Total params: 9351001 (35.67 MB)\n",
            "Trainable params: 9351001 (35.67 MB)\n",
            "Non-trainable params: 0 (0.00 Byte)\n",
            "_________________________________________________________________\n"
          ]
        }
      ],
      "source": [
        "print('Build model...')\n",
        "cnn_bis = Sequential()\n",
        "\n",
        "# We start off with an efficient embedding layer which maps our vocab indices\n",
        "# into embedding_dims dimensions\n",
        "cnn_bis.add(Embedding(max_features, embedding_dim))\n",
        "\n",
        "cnn_bis.add(Dropout(0.2))\n",
        "\n",
        "# We add a Convolution1D, which will learn\n",
        "# word group filters of size filter_length:\n",
        "\n",
        "# This layer creates a convolution kernel that is convolved with the layer input\n",
        "# over a single spatial (or temporal) dimension to produce a tensor of outputs\n",
        "cnn_bis.add(Conv1D(filter,\n",
        "                 kernel_siz,\n",
        "                 padding='valid',\n",
        "                 activation='relu',\n",
        "                 strides=1, kernel_regularizer=l2(0.01)))\n",
        "\n",
        "# We use max pooling:\n",
        "cnn_bis.add(GlobalMaxPooling1D())\n",
        "\n",
        "# We add a vanilla hidden layer:\n",
        "cnn_bis.add(Dense(hidden_dims,\n",
        "              kernel_regularizer=l2(0.01)))\n",
        "cnn_bis.add(Dropout(0.2))\n",
        "cnn_bis.add(Activation('relu'))\n",
        "\n",
        "# We add the second vanilla hidden layer:\n",
        "cnn_bis.add(Dense(hidden_dims,\n",
        "              kernel_regularizer=l2(0.01)))\n",
        "cnn_bis.add(Dropout(0.2))\n",
        "cnn_bis.add(Activation('relu'))\n",
        "\n",
        "# We project onto a single unit output layer, and squash it with a sigmoid:\n",
        "cnn_bis.add(Dense(1,\n",
        "              kernel_regularizer=l2(0.01)))\n",
        "cnn_bis.add(Activation('sigmoid'))\n",
        "\n",
        "cnn_bis.compile(loss='binary_crossentropy',\n",
        "              optimizer='adam',\n",
        "              metrics=['accuracy'])\n",
        "\n",
        "cnn_bis.summary()"
      ]
    },
    {
      "cell_type": "code",
      "execution_count": 33,
      "metadata": {
        "colab": {
          "base_uri": "https://localhost:8080/"
        },
        "id": "qo0Y3yepbKen",
        "outputId": "c6b571f3-b560-4747-a372-32e3a4e0f770"
      },
      "outputs": [
        {
          "output_type": "stream",
          "name": "stdout",
          "text": [
            "Epoch 1/20\n",
            "49/49 [==============================] - 126s 3s/step - loss: 4.2799 - accuracy: 0.6680 - val_loss: 1.8119 - val_accuracy: 0.6791\n",
            "Epoch 2/20\n",
            "49/49 [==============================] - 124s 3s/step - loss: 1.1754 - accuracy: 0.6693 - val_loss: 0.8044 - val_accuracy: 0.6791\n",
            "Epoch 3/20\n",
            "49/49 [==============================] - 126s 3s/step - loss: 0.7147 - accuracy: 0.6693 - val_loss: 0.6550 - val_accuracy: 0.6791\n",
            "Epoch 4/20\n",
            "49/49 [==============================] - 123s 2s/step - loss: 0.6504 - accuracy: 0.6693 - val_loss: 0.6364 - val_accuracy: 0.6791\n",
            "Epoch 5/20\n",
            "49/49 [==============================] - 124s 3s/step - loss: 0.6418 - accuracy: 0.6693 - val_loss: 0.6341 - val_accuracy: 0.6791\n",
            "Epoch 6/20\n",
            "49/49 [==============================] - 124s 3s/step - loss: 0.6399 - accuracy: 0.6693 - val_loss: 0.6326 - val_accuracy: 0.6791\n",
            "Epoch 7/20\n",
            "49/49 [==============================] - 125s 3s/step - loss: 0.6390 - accuracy: 0.6693 - val_loss: 0.6316 - val_accuracy: 0.6791\n",
            "Epoch 8/20\n",
            "49/49 [==============================] - 126s 3s/step - loss: 0.6388 - accuracy: 0.6693 - val_loss: 0.6314 - val_accuracy: 0.6791\n",
            "Epoch 9/20\n",
            "49/49 [==============================] - 123s 3s/step - loss: 0.6383 - accuracy: 0.6693 - val_loss: 0.6307 - val_accuracy: 0.6791\n",
            "Epoch 10/20\n",
            "49/49 [==============================] - 121s 2s/step - loss: 0.6380 - accuracy: 0.6693 - val_loss: 0.6311 - val_accuracy: 0.6791\n",
            "Epoch 11/20\n",
            "49/49 [==============================] - 125s 3s/step - loss: 0.6371 - accuracy: 0.6693 - val_loss: 0.6303 - val_accuracy: 0.6791\n",
            "Epoch 12/20\n",
            "49/49 [==============================] - 124s 3s/step - loss: 0.6370 - accuracy: 0.6693 - val_loss: 0.6300 - val_accuracy: 0.6791\n",
            "Epoch 13/20\n",
            "49/49 [==============================] - 124s 3s/step - loss: 0.6368 - accuracy: 0.6693 - val_loss: 0.6308 - val_accuracy: 0.6791\n",
            "Epoch 14/20\n",
            "49/49 [==============================] - 125s 3s/step - loss: 0.6369 - accuracy: 0.6693 - val_loss: 0.6306 - val_accuracy: 0.6791\n",
            "Epoch 15/20\n",
            "49/49 [==============================] - 123s 3s/step - loss: 0.6370 - accuracy: 0.6693 - val_loss: 0.6299 - val_accuracy: 0.6791\n",
            "Epoch 16/20\n",
            "49/49 [==============================] - 123s 3s/step - loss: 0.6369 - accuracy: 0.6693 - val_loss: 0.6299 - val_accuracy: 0.6791\n",
            "Epoch 17/20\n",
            "49/49 [==============================] - 125s 3s/step - loss: 0.6365 - accuracy: 0.6693 - val_loss: 0.6292 - val_accuracy: 0.6791\n",
            "Epoch 18/20\n",
            "49/49 [==============================] - 125s 3s/step - loss: 0.6365 - accuracy: 0.6693 - val_loss: 0.6293 - val_accuracy: 0.6791\n",
            "Epoch 19/20\n",
            "49/49 [==============================] - 126s 3s/step - loss: 0.6364 - accuracy: 0.6693 - val_loss: 0.6291 - val_accuracy: 0.6791\n",
            "Epoch 20/20\n",
            "49/49 [==============================] - 123s 3s/step - loss: 0.6361 - accuracy: 0.6693 - val_loss: 0.6290 - val_accuracy: 0.6791\n"
          ]
        }
      ],
      "source": [
        "epochs = 20\n",
        "cnn_1_bis=cnn_bis.fit(X_train, y_train,\n",
        "          batch_size=128,\n",
        "          epochs=epochs,\n",
        "          shuffle=True,\n",
        "          validation_split=0.1)"
      ]
    },
    {
      "cell_type": "code",
      "execution_count": 34,
      "metadata": {
        "colab": {
          "base_uri": "https://localhost:8080/"
        },
        "id": "Hli4M-RbbKeo",
        "outputId": "414c0c6e-5141-4f3e-d60a-cbacd11c966e"
      },
      "outputs": [
        {
          "output_type": "stream",
          "name": "stdout",
          "text": [
            "94/94 [==============================] - 22s 229ms/step\n"
          ]
        }
      ],
      "source": [
        "predictions_bis = cnn.predict(X_test)"
      ]
    },
    {
      "cell_type": "code",
      "execution_count": 35,
      "metadata": {
        "colab": {
          "base_uri": "https://localhost:8080/",
          "height": 887
        },
        "id": "Z8KwXLqwbKeo",
        "outputId": "cc602042-8659-4f22-e91c-37882f2c0e16"
      },
      "outputs": [
        {
          "output_type": "display_data",
          "data": {
            "text/plain": [
              "<Figure size 640x480 with 1 Axes>"
            ],
            "image/png": "[encoded data removed]"
          },
          "metadata": {}
        },
        {
          "output_type": "display_data",
          "data": {
            "text/plain": [
              "<Figure size 640x480 with 1 Axes>"
            ],
            "image/png": "[encoded data removed]"
          },
          "metadata": {}
        }
      ],
      "source": [
        "# Plot train/test loss and accuracy\n",
        "plotLoss(cnn_1_bis)"
      ]
    },
    {
      "cell_type": "code",
      "execution_count": 36,
      "metadata": {
        "colab": {
          "base_uri": "https://localhost:8080/"
        },
        "id": "zPdGme9IbKeo",
        "outputId": "bf82cf0c-f50c-42f9-eda2-bf98ba239070"
      },
      "outputs": [
        {
          "output_type": "stream",
          "name": "stdout",
          "text": [
            "Training Accuracy: 0.9840\n",
            "Testing Accuracy:  0.8482\n"
          ]
        }
      ],
      "source": [
        "# Find train and test f1\n",
        "loss, accuracy = cnn.evaluate(X_train, y_train, verbose=False)\n",
        "print(\"Training Accuracy: {:.4f}\".format(accuracy))\n",
        "loss, accuracy = cnn.evaluate(X_test, y_test, verbose=False)\n",
        "print(\"Testing Accuracy:  {:.4f}\".format(accuracy))"
      ]
    },
    {
      "cell_type": "markdown",
      "metadata": {
        "id": "jK2Tqs88bKeo"
      },
      "source": [
        "      precision    recall  f1-score   support\n",
        "\n",
        "           0       0.69      1.00      0.81      1996\n",
        "           1       0.99      0.07      0.14       981\n",
        "\n",
        "    accuracy                           0.69      2977\n",
        "   macro avg       0.84      0.54      0.48      2977\n",
        "weighted avg       0.79      0.69      0.59      2977"
      ]
    },
    {
      "cell_type": "code",
      "execution_count": 37,
      "metadata": {
        "colab": {
          "base_uri": "https://localhost:8080/"
        },
        "id": "vmzFmZM3bKep",
        "outputId": "01722b5c-d736-402b-bf71-918cb993ba55"
      },
      "outputs": [
        {
          "output_type": "stream",
          "name": "stdout",
          "text": [
            "94/94 [==============================] - 14s 146ms/step\n",
            "94/94 [==============================] - 14s 150ms/step\n",
            "Accuracy 0.6704736311723212\n",
            "F1-score [0.80273477 0.        ]\n",
            "              precision    recall  f1-score   support\n",
            "\n",
            "           0       0.67      1.00      0.80      1996\n",
            "           1       0.00      0.00      0.00       981\n",
            "\n",
            "    accuracy                           0.67      2977\n",
            "   macro avg       0.34      0.50      0.40      2977\n",
            "weighted avg       0.45      0.67      0.54      2977\n",
            "\n"
          ]
        },
        {
          "output_type": "stream",
          "name": "stderr",
          "text": [
            "/usr/local/lib/python3.10/dist-packages/sklearn/metrics/_classification.py:1344: UndefinedMetricWarning: Precision and F-score are ill-defined and being set to 0.0 in labels with no predicted samples. Use `zero_division` parameter to control this behavior.\n",
            "  _warn_prf(average, modifier, msg_start, len(result))\n",
            "/usr/local/lib/python3.10/dist-packages/sklearn/metrics/_classification.py:1344: UndefinedMetricWarning: Precision and F-score are ill-defined and being set to 0.0 in labels with no predicted samples. Use `zero_division` parameter to control this behavior.\n",
            "  _warn_prf(average, modifier, msg_start, len(result))\n",
            "/usr/local/lib/python3.10/dist-packages/sklearn/metrics/_classification.py:1344: UndefinedMetricWarning: Precision and F-score are ill-defined and being set to 0.0 in labels with no predicted samples. Use `zero_division` parameter to control this behavior.\n",
            "  _warn_prf(average, modifier, msg_start, len(result))\n"
          ]
        }
      ],
      "source": [
        "y_pred = cnn_bis.predict(X_test).astype(int)\n",
        "\n",
        "y_scores = cnn_bis.predict(X_test)\n",
        "\n",
        "print('Accuracy %s' % accuracy_score(y_test, y_pred))\n",
        "\n",
        "print('F1-score %s' % f1_score(y_test, y_pred, average=None))\n",
        "\n",
        "print(classification_report(y_test, y_pred))"
      ]
    },
    {
      "cell_type": "markdown",
      "metadata": {
        "id": "4UDs6xJhX_-X"
      },
      "source": [
        "## CNN MODELLO 2"
      ]
    },
    {
      "cell_type": "code",
      "execution_count": 38,
      "metadata": {
        "id": "mvJU20BgbTww"
      },
      "outputs": [],
      "source": [
        "from keras.layers import ConvLSTM1D\n",
        "from keras.layers import GlobalAveragePooling1D"
      ]
    },
    {
      "cell_type": "code",
      "execution_count": 39,
      "metadata": {
        "colab": {
          "base_uri": "https://localhost:8080/"
        },
        "id": "gvQgtLNlRSlB",
        "outputId": "1ca5d4c8-7f19-48c5-f1f6-88dbb38186cd"
      },
      "outputs": [
        {
          "output_type": "stream",
          "name": "stdout",
          "text": [
            "Build model...\n",
            "Model: \"sequential_2\"\n",
            "_________________________________________________________________\n",
            " Layer (type)                Output Shape              Param #   \n",
            "=================================================================\n",
            " embedding_2 (Embedding)     (None, None, 100)         3000000   \n",
            "                                                                 \n",
            " conv1d_2 (Conv1D)           (None, None, 70)          350070    \n",
            "                                                                 \n",
            " global_average_pooling1d (  (None, 70)                0         \n",
            " GlobalAveragePooling1D)                                         \n",
            "                                                                 \n",
            " dense_6 (Dense)             (None, 250)               17750     \n",
            "                                                                 \n",
            " activation_6 (Activation)   (None, 250)               0         \n",
            "                                                                 \n",
            " dense_7 (Dense)             (None, 250)               62750     \n",
            "                                                                 \n",
            " dropout_7 (Dropout)         (None, 250)               0         \n",
            "                                                                 \n",
            " activation_7 (Activation)   (None, 250)               0         \n",
            "                                                                 \n",
            " dense_8 (Dense)             (None, 1)                 251       \n",
            "                                                                 \n",
            " activation_8 (Activation)   (None, 1)                 0         \n",
            "                                                                 \n",
            "=================================================================\n",
            "Total params: 3430821 (13.09 MB)\n",
            "Trainable params: 3430821 (13.09 MB)\n",
            "Non-trainable params: 0 (0.00 Byte)\n",
            "_________________________________________________________________\n"
          ]
        }
      ],
      "source": [
        "print('Build model...')\n",
        "cnn2 = Sequential()\n",
        "\n",
        "# We start off with an efficient embedding layer which maps our vocab indices\n",
        "# into embedding_dims dimensions\n",
        "cnn2.add(Embedding(max_features, embedding_dims))\n",
        "\n",
        "# We add a Convolution1D, which will learn\n",
        "# word group filters of size filter_length:\n",
        "\n",
        "# This layer creates a convolution kernel that is convolved with the layer input\n",
        "# over a single spatial (or temporal) dimension to produce a tensor of outputs\n",
        "cnn2.add(Conv1D(filters,\n",
        "                 kernel_size,\n",
        "                 padding='valid',\n",
        "                 activation='relu',\n",
        "                 strides=3, kernel_regularizer=l2(0.01)))\n",
        "\n",
        "# We use max pooling:\n",
        "cnn2.add(GlobalAveragePooling1D())\n",
        "\n",
        "# We add a vanilla hidden layer:\n",
        "cnn2.add(Dense(hidden_dims, kernel_regularizer=l2(0.01)))\n",
        "cnn.add(Dropout(0.2))\n",
        "cnn2.add(Activation('relu'))\n",
        "\n",
        "# We add the second vanilla hidden layer:\n",
        "cnn2.add(Dense(hidden_dims, kernel_regularizer=l2(0.01)))\n",
        "cnn2.add(Dropout(0.2))\n",
        "cnn2.add(Activation('relu'))\n",
        "\n",
        "# We project onto a single unit output layer, and squash it with a sigmoid:\n",
        "cnn2.add(Dense(1, kernel_regularizer=l2(0.01)))\n",
        "cnn2.add(Activation('sigmoid'))\n",
        "\n",
        "cnn2.compile(loss='binary_crossentropy',\n",
        "              optimizer='adam',\n",
        "              metrics=['accuracy'])\n",
        "\n",
        "cnn2.summary()"
      ]
    },
    {
      "cell_type": "code",
      "execution_count": 39,
      "metadata": {
        "id": "PmlmKMuHY6Tl"
      },
      "outputs": [],
      "source": []
    },
    {
      "cell_type": "code",
      "execution_count": 40,
      "metadata": {
        "colab": {
          "base_uri": "https://localhost:8080/"
        },
        "id": "siaUVC8OY6dj",
        "outputId": "722dcd28-6cb3-41cd-cc72-87bc6eaf6183"
      },
      "outputs": [
        {
          "output_type": "stream",
          "name": "stdout",
          "text": [
            "Epoch 1/20\n",
            "11/11 [==============================] - 54s 5s/step - loss: 4.3409 - accuracy: 0.6649 - val_loss: 3.5503 - val_accuracy: 0.6695\n",
            "Epoch 2/20\n",
            "11/11 [==============================] - 54s 5s/step - loss: 3.1083 - accuracy: 0.6704 - val_loss: 2.6533 - val_accuracy: 0.6695\n",
            "Epoch 3/20\n",
            "11/11 [==============================] - 54s 5s/step - loss: 2.3812 - accuracy: 0.6704 - val_loss: 2.0831 - val_accuracy: 0.6695\n",
            "Epoch 4/20\n",
            "11/11 [==============================] - 55s 5s/step - loss: 1.8876 - accuracy: 0.6704 - val_loss: 1.6688 - val_accuracy: 0.6695\n",
            "Epoch 5/20\n",
            "11/11 [==============================] - 52s 5s/step - loss: 1.5238 - accuracy: 0.6704 - val_loss: 1.3636 - val_accuracy: 0.6695\n",
            "Epoch 6/20\n",
            "11/11 [==============================] - 54s 5s/step - loss: 1.2590 - accuracy: 0.6704 - val_loss: 1.1450 - val_accuracy: 0.6695\n",
            "Epoch 7/20\n",
            "11/11 [==============================] - 52s 5s/step - loss: 1.0710 - accuracy: 0.6704 - val_loss: 0.9901 - val_accuracy: 0.6695\n",
            "Epoch 8/20\n",
            "11/11 [==============================] - 53s 5s/step - loss: 0.9382 - accuracy: 0.6704 - val_loss: 0.8815 - val_accuracy: 0.6695\n",
            "Epoch 9/20\n",
            "11/11 [==============================] - 53s 5s/step - loss: 0.8439 - accuracy: 0.6704 - val_loss: 0.8052 - val_accuracy: 0.6695\n",
            "Epoch 10/20\n",
            "11/11 [==============================] - 54s 5s/step - loss: 0.7784 - accuracy: 0.6704 - val_loss: 0.7515 - val_accuracy: 0.6695\n",
            "Epoch 11/20\n",
            "11/11 [==============================] - 53s 5s/step - loss: 0.7351 - accuracy: 0.6704 - val_loss: 0.7154 - val_accuracy: 0.6695\n",
            "Epoch 12/20\n",
            "11/11 [==============================] - 51s 5s/step - loss: 0.7039 - accuracy: 0.6704 - val_loss: 0.6910 - val_accuracy: 0.6695\n",
            "Epoch 13/20\n",
            "11/11 [==============================] - 54s 5s/step - loss: 0.6830 - accuracy: 0.6704 - val_loss: 0.6745 - val_accuracy: 0.6695\n",
            "Epoch 14/20\n",
            "11/11 [==============================] - 52s 5s/step - loss: 0.6688 - accuracy: 0.6704 - val_loss: 0.6632 - val_accuracy: 0.6695\n",
            "Epoch 15/20\n",
            "11/11 [==============================] - 53s 5s/step - loss: 0.6594 - accuracy: 0.6704 - val_loss: 0.6557 - val_accuracy: 0.6695\n",
            "Epoch 16/20\n",
            "11/11 [==============================] - 56s 5s/step - loss: 0.6530 - accuracy: 0.6704 - val_loss: 0.6505 - val_accuracy: 0.6695\n",
            "Epoch 17/20\n",
            "11/11 [==============================] - 54s 5s/step - loss: 0.6481 - accuracy: 0.6704 - val_loss: 0.6470 - val_accuracy: 0.6695\n",
            "Epoch 18/20\n",
            "11/11 [==============================] - 54s 5s/step - loss: 0.6454 - accuracy: 0.6704 - val_loss: 0.6443 - val_accuracy: 0.6695\n",
            "Epoch 19/20\n",
            "11/11 [==============================] - 53s 5s/step - loss: 0.6431 - accuracy: 0.6704 - val_loss: 0.6425 - val_accuracy: 0.6695\n",
            "Epoch 20/20\n",
            "11/11 [==============================] - 53s 5s/step - loss: 0.6419 - accuracy: 0.6704 - val_loss: 0.6412 - val_accuracy: 0.6695\n"
          ]
        }
      ],
      "source": [
        "epochs = 20\n",
        "cnn_2=cnn2.fit(X_train, y_train,\n",
        "          batch_size=512,\n",
        "          epochs=epochs,\n",
        "          shuffle=True,\n",
        "          validation_split=0.2)"
      ]
    },
    {
      "cell_type": "code",
      "execution_count": 41,
      "metadata": {
        "colab": {
          "base_uri": "https://localhost:8080/",
          "height": 887
        },
        "id": "qf4UoZPFZgZk",
        "outputId": "9f05ec74-587b-4dfa-aeeb-a67a8e9083ae"
      },
      "outputs": [
        {
          "output_type": "display_data",
          "data": {
            "text/plain": [
              "<Figure size 640x480 with 1 Axes>"
            ],
            "image/png": "[encoded data removed]"
          },
          "metadata": {}
        },
        {
          "output_type": "display_data",
          "data": {
            "text/plain": [
              "<Figure size 640x480 with 1 Axes>"
            ],
            "image/png": "[encoded data removed]"
          },
          "metadata": {}
        }
      ],
      "source": [
        "# Plot train/test loss and accuracy\n",
        "plotLoss(cnn_2)"
      ]
    },
    {
      "cell_type": "code",
      "execution_count": 42,
      "metadata": {
        "colab": {
          "base_uri": "https://localhost:8080/"
        },
        "id": "SAptvPPCY6dk",
        "outputId": "94f19025-3251-4ca2-c1ab-f05a052eeff6"
      },
      "outputs": [
        {
          "output_type": "stream",
          "name": "stdout",
          "text": [
            "94/94 [==============================] - 8s 88ms/step\n"
          ]
        }
      ],
      "source": [
        "predictions = cnn2.predict(X_test)"
      ]
    },
    {
      "cell_type": "code",
      "execution_count": 43,
      "metadata": {
        "colab": {
          "base_uri": "https://localhost:8080/"
        },
        "id": "Yt8OzaQyY6dl",
        "outputId": "561358cf-2957-4e58-cd22-0ca6fc42c04c"
      },
      "outputs": [
        {
          "output_type": "stream",
          "name": "stdout",
          "text": [
            "Training Accuracy: 0.6703\n",
            "Testing Accuracy:  0.6705\n"
          ]
        }
      ],
      "source": [
        "# Find train and test f1\n",
        "loss, accuracy = cnn2.evaluate(X_train, y_train, verbose=False)\n",
        "print(\"Training Accuracy: {:.4f}\".format(accuracy))\n",
        "loss, accuracy = cnn2.evaluate(X_test, y_test, verbose=False)\n",
        "print(\"Testing Accuracy:  {:.4f}\".format(accuracy))"
      ]
    },
    {
      "cell_type": "code",
      "execution_count": 44,
      "metadata": {
        "colab": {
          "base_uri": "https://localhost:8080/"
        },
        "id": "TOuEfdjNY6dl",
        "outputId": "7f3c7922-ca76-4db7-afe4-de64d6b94e7a"
      },
      "outputs": [
        {
          "output_type": "stream",
          "name": "stdout",
          "text": [
            "94/94 [==============================] - 9s 93ms/step\n",
            "94/94 [==============================] - 7s 72ms/step\n",
            "Accuracy 0.6704736311723212\n",
            "F1-score [0.80273477 0.        ]\n",
            "              precision    recall  f1-score   support\n",
            "\n",
            "           0       0.67      1.00      0.80      1996\n",
            "           1       0.00      0.00      0.00       981\n",
            "\n",
            "    accuracy                           0.67      2977\n",
            "   macro avg       0.34      0.50      0.40      2977\n",
            "weighted avg       0.45      0.67      0.54      2977\n",
            "\n"
          ]
        },
        {
          "output_type": "stream",
          "name": "stderr",
          "text": [
            "/usr/local/lib/python3.10/dist-packages/sklearn/metrics/_classification.py:1344: UndefinedMetricWarning: Precision and F-score are ill-defined and being set to 0.0 in labels with no predicted samples. Use `zero_division` parameter to control this behavior.\n",
            "  _warn_prf(average, modifier, msg_start, len(result))\n",
            "/usr/local/lib/python3.10/dist-packages/sklearn/metrics/_classification.py:1344: UndefinedMetricWarning: Precision and F-score are ill-defined and being set to 0.0 in labels with no predicted samples. Use `zero_division` parameter to control this behavior.\n",
            "  _warn_prf(average, modifier, msg_start, len(result))\n",
            "/usr/local/lib/python3.10/dist-packages/sklearn/metrics/_classification.py:1344: UndefinedMetricWarning: Precision and F-score are ill-defined and being set to 0.0 in labels with no predicted samples. Use `zero_division` parameter to control this behavior.\n",
            "  _warn_prf(average, modifier, msg_start, len(result))\n"
          ]
        }
      ],
      "source": [
        "y_pred = cnn2.predict(X_test).astype(int)\n",
        "\n",
        "y_scores = cnn2.predict(X_test)\n",
        "\n",
        "print('Accuracy %s' % accuracy_score(y_test, y_pred))\n",
        "\n",
        "print('F1-score %s' % f1_score(y_test, y_pred, average=None))\n",
        "\n",
        "print(classification_report(y_test, y_pred))"
      ]
    },
    {
      "cell_type": "markdown",
      "metadata": {
        "id": "90LFyjxLdTLl"
      },
      "source": [
        "## MODELLO 3\n"
      ]
    },
    {
      "cell_type": "code",
      "execution_count": 45,
      "metadata": {
        "id": "cfR0NoNjdQf5"
      },
      "outputs": [],
      "source": [
        "from tensorflow.keras.optimizers import RMSprop"
      ]
    },
    {
      "cell_type": "code",
      "execution_count": 46,
      "metadata": {
        "colab": {
          "base_uri": "https://localhost:8080/"
        },
        "id": "q2rur1hLdSC4",
        "outputId": "16d805ce-ec78-4154-b506-ea93e75a86a6"
      },
      "outputs": [
        {
          "output_type": "stream",
          "name": "stdout",
          "text": [
            "Build model...\n",
            "Model: \"sequential_3\"\n",
            "_________________________________________________________________\n",
            " Layer (type)                Output Shape              Param #   \n",
            "=================================================================\n",
            " embedding_3 (Embedding)     (None, None, 100)         3000000   \n",
            "                                                                 \n",
            " dropout_8 (Dropout)         (None, None, 100)         0         \n",
            "                                                                 \n",
            " conv1d_3 (Conv1D)           (None, None, 70)          350070    \n",
            "                                                                 \n",
            " dense_9 (Dense)             (None, None, 250)         17750     \n",
            "                                                                 \n",
            " dropout_9 (Dropout)         (None, None, 250)         0         \n",
            "                                                                 \n",
            " activation_9 (Activation)   (None, None, 250)         0         \n",
            "                                                                 \n",
            " global_max_pooling1d_2 (Gl  (None, 250)               0         \n",
            " obalMaxPooling1D)                                               \n",
            "                                                                 \n",
            " dense_10 (Dense)            (None, 250)               62750     \n",
            "                                                                 \n",
            " dropout_10 (Dropout)        (None, 250)               0         \n",
            "                                                                 \n",
            " activation_10 (Activation)  (None, 250)               0         \n",
            "                                                                 \n",
            " dense_11 (Dense)            (None, 1)                 251       \n",
            "                                                                 \n",
            " activation_11 (Activation)  (None, 1)                 0         \n",
            "                                                                 \n",
            "=================================================================\n",
            "Total params: 3430821 (13.09 MB)\n",
            "Trainable params: 3430821 (13.09 MB)\n",
            "Non-trainable params: 0 (0.00 Byte)\n",
            "_________________________________________________________________\n"
          ]
        }
      ],
      "source": [
        "print('Build model...')\n",
        "cnn3 = Sequential()\n",
        "\n",
        "# We start off with an efficient embedding layer which maps our vocab indices\n",
        "# into embedding_dims dimensions\n",
        "cnn3.add(Embedding(max_features, embedding_dims))\n",
        "\n",
        "cnn3.add(Dropout(0.2))\n",
        "# We add a Convolution1D, which will learn\n",
        "# word group filters of size filter_length:\n",
        "\n",
        "# This layer creates a convolution kernel that is convolved with the layer input\n",
        "# over a single spatial (or temporal) dimension to produce a tensor of outputs\n",
        "cnn3.add(Conv1D(filters,\n",
        "                 kernel_size,\n",
        "                 padding='valid',\n",
        "                 activation='relu',\n",
        "                 strides=1, kernel_regularizer=l2(0.01)))\n",
        "# We add a vanilla hidden layer:\n",
        "cnn3.add(Dense(hidden_dims, kernel_regularizer=l2(0.01)))\n",
        "cnn3.add(Dropout(0.2))\n",
        "cnn3.add(Activation('relu'))\n",
        "\n",
        "# We use max pooling:\n",
        "cnn3.add(GlobalMaxPooling1D())\n",
        "\n",
        "\n",
        "\n",
        "# We add the second vanilla hidden layer:\n",
        "cnn3.add(Dense(hidden_dims, kernel_regularizer=l2(0.01)))\n",
        "cnn3.add(Dropout(0.2))\n",
        "cnn3.add(Activation('relu'))\n",
        "\n",
        "# We project onto a single unit output layer, and squash it with a sigmoid:\n",
        "cnn3.add(Dense(1, kernel_regularizer=l2(0.01)))\n",
        "cnn3.add(Activation('sigmoid'))\n",
        "\n",
        "cnn3.compile(loss='binary_crossentropy',\n",
        "              optimizer='RMSprop',\n",
        "              metrics=['accuracy'])\n",
        "\n",
        "cnn3.summary()"
      ]
    },
    {
      "cell_type": "code",
      "execution_count": 47,
      "metadata": {
        "colab": {
          "base_uri": "https://localhost:8080/"
        },
        "id": "FGQHzP_5dSC5",
        "outputId": "d312dc0c-b870-4e5f-e93e-908461c01105"
      },
      "outputs": [
        {
          "output_type": "stream",
          "name": "stdout",
          "text": [
            "Epoch 1/20\n",
            "13/13 [==============================] - 184s 14s/step - loss: 3.9848 - accuracy: 0.6410 - val_loss: 3.0517 - val_accuracy: 0.6791\n",
            "Epoch 2/20\n",
            "13/13 [==============================] - 184s 14s/step - loss: 2.6350 - accuracy: 0.6693 - val_loss: 2.1847 - val_accuracy: 0.6791\n",
            "Epoch 3/20\n",
            "13/13 [==============================] - 185s 14s/step - loss: 1.9274 - accuracy: 0.6693 - val_loss: 1.6315 - val_accuracy: 0.6791\n",
            "Epoch 4/20\n",
            "13/13 [==============================] - 185s 14s/step - loss: 1.4651 - accuracy: 0.6693 - val_loss: 1.2643 - val_accuracy: 0.6791\n",
            "Epoch 5/20\n",
            "13/13 [==============================] - 186s 14s/step - loss: 1.1487 - accuracy: 0.6693 - val_loss: 1.0094 - val_accuracy: 0.6791\n",
            "Epoch 6/20\n",
            "13/13 [==============================] - 185s 14s/step - loss: 0.9362 - accuracy: 0.6693 - val_loss: 0.8488 - val_accuracy: 0.6791\n",
            "Epoch 7/20\n",
            "13/13 [==============================] - 181s 14s/step - loss: 0.8003 - accuracy: 0.6693 - val_loss: 0.7409 - val_accuracy: 0.6791\n",
            "Epoch 8/20\n",
            "13/13 [==============================] - 186s 14s/step - loss: 0.7202 - accuracy: 0.6693 - val_loss: 0.6850 - val_accuracy: 0.6791\n",
            "Epoch 9/20\n",
            "13/13 [==============================] - 188s 14s/step - loss: 0.6780 - accuracy: 0.6693 - val_loss: 0.6601 - val_accuracy: 0.6791\n",
            "Epoch 10/20\n",
            "13/13 [==============================] - 185s 14s/step - loss: 0.6570 - accuracy: 0.6693 - val_loss: 0.6452 - val_accuracy: 0.6791\n",
            "Epoch 11/20\n",
            "13/13 [==============================] - 180s 14s/step - loss: 0.6483 - accuracy: 0.6693 - val_loss: 0.6413 - val_accuracy: 0.6791\n",
            "Epoch 12/20\n",
            "13/13 [==============================] - 188s 14s/step - loss: 0.6450 - accuracy: 0.6693 - val_loss: 0.6368 - val_accuracy: 0.6791\n",
            "Epoch 13/20\n",
            "13/13 [==============================] - 184s 14s/step - loss: 0.6426 - accuracy: 0.6693 - val_loss: 0.6364 - val_accuracy: 0.6791\n",
            "Epoch 14/20\n",
            "13/13 [==============================] - 186s 14s/step - loss: 0.6423 - accuracy: 0.6693 - val_loss: 0.6350 - val_accuracy: 0.6791\n",
            "Epoch 15/20\n",
            "13/13 [==============================] - 187s 14s/step - loss: 0.6414 - accuracy: 0.6693 - val_loss: 0.6353 - val_accuracy: 0.6791\n",
            "Epoch 16/20\n",
            "13/13 [==============================] - 182s 14s/step - loss: 0.6406 - accuracy: 0.6693 - val_loss: 0.6350 - val_accuracy: 0.6791\n",
            "Epoch 17/20\n",
            "13/13 [==============================] - 183s 14s/step - loss: 0.6402 - accuracy: 0.6693 - val_loss: 0.6336 - val_accuracy: 0.6791\n",
            "Epoch 18/20\n",
            "13/13 [==============================] - 181s 14s/step - loss: 0.6394 - accuracy: 0.6693 - val_loss: 0.6350 - val_accuracy: 0.6791\n",
            "Epoch 19/20\n",
            "13/13 [==============================] - 185s 14s/step - loss: 0.6397 - accuracy: 0.6693 - val_loss: 0.6329 - val_accuracy: 0.6791\n",
            "Epoch 20/20\n",
            "13/13 [==============================] - 185s 14s/step - loss: 0.6389 - accuracy: 0.6693 - val_loss: 0.6325 - val_accuracy: 0.6791\n"
          ]
        }
      ],
      "source": [
        "epochs = 20\n",
        "cnn_3=cnn3.fit(X_train, y_train,\n",
        "          batch_size=512,\n",
        "          epochs=epochs,\n",
        "          shuffle=True,\n",
        "          validation_split=0.1)"
      ]
    },
    {
      "cell_type": "code",
      "execution_count": 48,
      "metadata": {
        "id": "ei_bl7tNdSC5",
        "colab": {
          "base_uri": "https://localhost:8080/"
        },
        "outputId": "c18771af-3319-4787-bc89-315c8a665268"
      },
      "outputs": [
        {
          "output_type": "stream",
          "name": "stdout",
          "text": [
            "94/94 [==============================] - 21s 228ms/step\n"
          ]
        }
      ],
      "source": [
        "predictions = cnn3.predict(X_test)"
      ]
    },
    {
      "cell_type": "code",
      "execution_count": null,
      "metadata": {
        "id": "WKUkJbJhdSC5"
      },
      "outputs": [],
      "source": [
        "# Find train and test f1\n",
        "loss, accuracy = cnn3.evaluate(X_train, y_train, verbose=False)\n",
        "print(\"Training Accuracy: {:.4f}\".format(accuracy))\n",
        "loss, accuracy = cnn3.evaluate(X_test, y_test, verbose=False)\n",
        "print(\"Testing Accuracy:  {:.4f}\".format(accuracy))"
      ]
    },
    {
      "cell_type": "code",
      "execution_count": 50,
      "metadata": {
        "id": "B1eUrDfbdSC5",
        "colab": {
          "base_uri": "https://localhost:8080/"
        },
        "outputId": "a188cfec-6621-406a-c1d7-4a29ac84cf15"
      },
      "outputs": [
        {
          "output_type": "stream",
          "name": "stdout",
          "text": [
            "94/94 [==============================] - 21s 224ms/step\n",
            "94/94 [==============================] - 21s 224ms/step\n",
            "Accuracy 0.6704736311723212\n",
            "F1-score [0.80273477 0.        ]\n",
            "              precision    recall  f1-score   support\n",
            "\n",
            "           0       0.67      1.00      0.80      1996\n",
            "           1       0.00      0.00      0.00       981\n",
            "\n",
            "    accuracy                           0.67      2977\n",
            "   macro avg       0.34      0.50      0.40      2977\n",
            "weighted avg       0.45      0.67      0.54      2977\n",
            "\n"
          ]
        },
        {
          "output_type": "stream",
          "name": "stderr",
          "text": [
            "/usr/local/lib/python3.10/dist-packages/sklearn/metrics/_classification.py:1344: UndefinedMetricWarning: Precision and F-score are ill-defined and being set to 0.0 in labels with no predicted samples. Use `zero_division` parameter to control this behavior.\n",
            "  _warn_prf(average, modifier, msg_start, len(result))\n",
            "/usr/local/lib/python3.10/dist-packages/sklearn/metrics/_classification.py:1344: UndefinedMetricWarning: Precision and F-score are ill-defined and being set to 0.0 in labels with no predicted samples. Use `zero_division` parameter to control this behavior.\n",
            "  _warn_prf(average, modifier, msg_start, len(result))\n",
            "/usr/local/lib/python3.10/dist-packages/sklearn/metrics/_classification.py:1344: UndefinedMetricWarning: Precision and F-score are ill-defined and being set to 0.0 in labels with no predicted samples. Use `zero_division` parameter to control this behavior.\n",
            "  _warn_prf(average, modifier, msg_start, len(result))\n"
          ]
        }
      ],
      "source": [
        "y_pred = cnn3.predict(X_test).astype(int)\n",
        "\n",
        "y_scores = cnn3.predict(X_test)\n",
        "\n",
        "print('Accuracy %s' % accuracy_score(y_test, y_pred))\n",
        "\n",
        "print('F1-score %s' % f1_score(y_test, y_pred, average=None))\n",
        "\n",
        "print(classification_report(y_test, y_pred))"
      ]
    },
    {
      "cell_type": "markdown",
      "metadata": {
        "id": "1WIseEAdcHxr"
      },
      "source": [
        "## MODEL 4"
      ]
    },
    {
      "cell_type": "code",
      "execution_count": 54,
      "metadata": {
        "id": "89zbEyO8cI4m",
        "colab": {
          "base_uri": "https://localhost:8080/"
        },
        "outputId": "0827aa6b-b9cc-42c4-f182-caba2bf51703"
      },
      "outputs": [
        {
          "output_type": "stream",
          "name": "stdout",
          "text": [
            "Build model...\n",
            "Model: \"sequential_4\"\n",
            "_________________________________________________________________\n",
            " Layer (type)                Output Shape              Param #   \n",
            "=================================================================\n",
            " embedding_4 (Embedding)     (None, None, 100)         3000000   \n",
            "                                                                 \n",
            " dropout_11 (Dropout)        (None, None, 100)         0         \n",
            "                                                                 \n",
            " conv1d_4 (Conv1D)           (None, None, 70)          350070    \n",
            "                                                                 \n",
            " global_average_pooling1d_1  (None, 70)                0         \n",
            "  (GlobalAveragePooling1D)                                       \n",
            "                                                                 \n",
            " dropout_12 (Dropout)        (None, 70)                0         \n",
            "                                                                 \n",
            " dense_12 (Dense)            (None, 250)               17750     \n",
            "                                                                 \n",
            " dropout_13 (Dropout)        (None, 250)               0         \n",
            "                                                                 \n",
            " dense_13 (Dense)            (None, 1)                 251       \n",
            "                                                                 \n",
            " activation_12 (Activation)  (None, 1)                 0         \n",
            "                                                                 \n",
            "=================================================================\n",
            "Total params: 3368071 (12.85 MB)\n",
            "Trainable params: 3368071 (12.85 MB)\n",
            "Non-trainable params: 0 (0.00 Byte)\n",
            "_________________________________________________________________\n"
          ]
        }
      ],
      "source": [
        "print('Build model...')\n",
        "cnn4 = Sequential()\n",
        "\n",
        "# We start off with an efficient embedding layer which maps our vocab indices\n",
        "# into embedding_dims dimensions\n",
        "cnn4.add(Embedding(max_features, embedding_dims))\n",
        "\n",
        "cnn4.add(Dropout(0.2))  # Utilizza Dropout anziché SpatialDropout1D\n",
        "\n",
        "# We add a Convolution1D, which will learn\n",
        "# word group filters of size filter_length:\n",
        "cnn4.add(Conv1D(filters,\n",
        "                kernel_size,\n",
        "                padding='valid',\n",
        "                activation='relu',\n",
        "                strides=1, kernel_regularizer=l2(0.01)))\n",
        "\n",
        "\n",
        "# We use max pooling:\n",
        "cnn4.add(GlobalAveragePooling1D())\n",
        "cnn4.add(Dropout(0.2))  # Utilizza Dropout anziché SpatialDropout1D\n",
        "\n",
        "# # We add a vanilla hidden layer:\n",
        "cnn4.add(Dense(hidden_dims, kernel_regularizer=l2(0.01)))\n",
        "cnn4.add(Dropout(0.2))  # Utilizza Dropout anziché SpatialDropout1D\n",
        "# cnn4.add(Activation('tanh'))\n",
        "# cnn4.add(Dropout(0.2))  # Utilizza Dropout anziché SpatialDropout1D\n",
        "\n",
        "# # We add the second vanilla hidden layer:\n",
        "# cnn4.add(Dense(hidden_dims))\n",
        "# cnn4.add(Dropout(0.2))  # Utilizza Dropout anziché SpatialDropout1D\n",
        "# cnn4.add(Activation('tanh'))\n",
        "\n",
        "# We project onto a single unit output layer, and squash it with a sigmoid:\n",
        "cnn4.add(Dense(1, kernel_regularizer=l2(0.01)))\n",
        "cnn4.add(Activation('sigmoid'))\n",
        "\n",
        "cnn4.compile(loss='binary_crossentropy',\n",
        "             optimizer='SGD',\n",
        "             metrics=['accuracy'])\n",
        "\n",
        "cnn4.summary()\n"
      ]
    },
    {
      "cell_type": "code",
      "execution_count": 51,
      "metadata": {
        "id": "AhZegLnCgeBg"
      },
      "outputs": [],
      "source": []
    },
    {
      "cell_type": "code",
      "execution_count": 56,
      "metadata": {
        "id": "-oLZaNZhgeUE",
        "colab": {
          "base_uri": "https://localhost:8080/"
        },
        "outputId": "2ded0e54-b207-43d7-96af-eccfd6305794"
      },
      "outputs": [
        {
          "output_type": "stream",
          "name": "stdout",
          "text": [
            "Epoch 1/20\n",
            "87/87 [==============================] - 149s 2s/step - loss: 2.5626 - accuracy: 0.6672 - val_loss: 2.5115 - val_accuracy: 0.6695\n",
            "Epoch 2/20\n",
            "87/87 [==============================] - 148s 2s/step - loss: 2.4755 - accuracy: 0.6704 - val_loss: 2.4411 - val_accuracy: 0.6695\n",
            "Epoch 3/20\n",
            "87/87 [==============================] - 149s 2s/step - loss: 2.4097 - accuracy: 0.6704 - val_loss: 2.3788 - val_accuracy: 0.6695\n",
            "Epoch 4/20\n",
            "87/87 [==============================] - 146s 2s/step - loss: 2.3491 - accuracy: 0.6704 - val_loss: 2.3191 - val_accuracy: 0.6695\n",
            "Epoch 5/20\n",
            "87/87 [==============================] - 148s 2s/step - loss: 2.2908 - accuracy: 0.6704 - val_loss: 2.2615 - val_accuracy: 0.6695\n",
            "Epoch 6/20\n",
            "87/87 [==============================] - 148s 2s/step - loss: 2.2330 - accuracy: 0.6704 - val_loss: 2.2060 - val_accuracy: 0.6695\n",
            "Epoch 7/20\n",
            "87/87 [==============================] - 146s 2s/step - loss: 2.1796 - accuracy: 0.6704 - val_loss: 2.1522 - val_accuracy: 0.6695\n",
            "Epoch 8/20\n",
            "87/87 [==============================] - 150s 2s/step - loss: 2.1257 - accuracy: 0.6704 - val_loss: 2.1004 - val_accuracy: 0.6695\n",
            "Epoch 9/20\n",
            "87/87 [==============================] - 148s 2s/step - loss: 2.0755 - accuracy: 0.6704 - val_loss: 2.0503 - val_accuracy: 0.6695\n",
            "Epoch 10/20\n",
            "87/87 [==============================] - 147s 2s/step - loss: 2.0255 - accuracy: 0.6704 - val_loss: 2.0019 - val_accuracy: 0.6695\n",
            "Epoch 11/20\n",
            "87/87 [==============================] - 147s 2s/step - loss: 1.9785 - accuracy: 0.6704 - val_loss: 1.9552 - val_accuracy: 0.6695\n",
            "Epoch 12/20\n",
            "87/87 [==============================] - 150s 2s/step - loss: 1.9321 - accuracy: 0.6704 - val_loss: 1.9100 - val_accuracy: 0.6695\n",
            "Epoch 13/20\n",
            "87/87 [==============================] - 147s 2s/step - loss: 1.8878 - accuracy: 0.6704 - val_loss: 1.8665 - val_accuracy: 0.6695\n",
            "Epoch 14/20\n",
            "87/87 [==============================] - 147s 2s/step - loss: 1.8452 - accuracy: 0.6704 - val_loss: 1.8244 - val_accuracy: 0.6695\n",
            "Epoch 15/20\n",
            "87/87 [==============================] - 146s 2s/step - loss: 1.8041 - accuracy: 0.6704 - val_loss: 1.7837 - val_accuracy: 0.6695\n",
            "Epoch 16/20\n",
            "87/87 [==============================] - 151s 2s/step - loss: 1.7637 - accuracy: 0.6704 - val_loss: 1.7445 - val_accuracy: 0.6695\n",
            "Epoch 17/20\n",
            "87/87 [==============================] - 147s 2s/step - loss: 1.7252 - accuracy: 0.6704 - val_loss: 1.7066 - val_accuracy: 0.6695\n",
            "Epoch 18/20\n",
            "87/87 [==============================] - 147s 2s/step - loss: 1.6883 - accuracy: 0.6704 - val_loss: 1.6699 - val_accuracy: 0.6695\n",
            "Epoch 19/20\n",
            "87/87 [==============================] - 148s 2s/step - loss: 1.6520 - accuracy: 0.6704 - val_loss: 1.6346 - val_accuracy: 0.6695\n",
            "Epoch 20/20\n",
            "87/87 [==============================] - 146s 2s/step - loss: 1.6171 - accuracy: 0.6704 - val_loss: 1.6004 - val_accuracy: 0.6695\n"
          ]
        }
      ],
      "source": [
        "epochs = 20\n",
        "cnn_4=cnn4.fit(X_train, y_train,\n",
        "          batch_size=64,\n",
        "          epochs=epochs,\n",
        "          shuffle=True,\n",
        "          validation_split=0.2)"
      ]
    },
    {
      "cell_type": "code",
      "execution_count": 57,
      "metadata": {
        "id": "eE-pHZbrgeUE",
        "colab": {
          "base_uri": "https://localhost:8080/"
        },
        "outputId": "c8bbac80-2cca-44fa-9608-7c7c45d0c3a2"
      },
      "outputs": [
        {
          "output_type": "stream",
          "name": "stdout",
          "text": [
            "94/94 [==============================] - 25s 262ms/step\n"
          ]
        }
      ],
      "source": [
        "predictions = cnn4.predict(X_test)"
      ]
    },
    {
      "cell_type": "code",
      "execution_count": 58,
      "metadata": {
        "id": "VVx6YnePgeUE",
        "colab": {
          "base_uri": "https://localhost:8080/"
        },
        "outputId": "b132b18f-cffe-4334-f274-61508862907e"
      },
      "outputs": [
        {
          "output_type": "stream",
          "name": "stdout",
          "text": [
            "Training Accuracy: 0.6703\n",
            "Testing Accuracy:  0.6705\n"
          ]
        }
      ],
      "source": [
        "# Find train and test f1\n",
        "loss, accuracy = cnn4.evaluate(X_train, y_train, verbose=False)\n",
        "print(\"Training Accuracy: {:.4f}\".format(accuracy))\n",
        "loss, accuracy = cnn4.evaluate(X_test, y_test, verbose=False)\n",
        "print(\"Testing Accuracy:  {:.4f}\".format(accuracy))"
      ]
    },
    {
      "cell_type": "code",
      "execution_count": 59,
      "metadata": {
        "id": "NzP3hI4BgeUF",
        "colab": {
          "base_uri": "https://localhost:8080/"
        },
        "outputId": "bb80c661-788f-46ae-e2fe-ede7380b2836"
      },
      "outputs": [
        {
          "output_type": "stream",
          "name": "stdout",
          "text": [
            "94/94 [==============================] - 20s 211ms/step\n",
            "94/94 [==============================] - 20s 218ms/step\n",
            "Accuracy 0.6704736311723212\n",
            "F1-score [0.80273477 0.        ]\n",
            "              precision    recall  f1-score   support\n",
            "\n",
            "           0       0.67      1.00      0.80      1996\n",
            "           1       0.00      0.00      0.00       981\n",
            "\n",
            "    accuracy                           0.67      2977\n",
            "   macro avg       0.34      0.50      0.40      2977\n",
            "weighted avg       0.45      0.67      0.54      2977\n",
            "\n"
          ]
        },
        {
          "output_type": "stream",
          "name": "stderr",
          "text": [
            "/usr/local/lib/python3.10/dist-packages/sklearn/metrics/_classification.py:1344: UndefinedMetricWarning: Precision and F-score are ill-defined and being set to 0.0 in labels with no predicted samples. Use `zero_division` parameter to control this behavior.\n",
            "  _warn_prf(average, modifier, msg_start, len(result))\n",
            "/usr/local/lib/python3.10/dist-packages/sklearn/metrics/_classification.py:1344: UndefinedMetricWarning: Precision and F-score are ill-defined and being set to 0.0 in labels with no predicted samples. Use `zero_division` parameter to control this behavior.\n",
            "  _warn_prf(average, modifier, msg_start, len(result))\n",
            "/usr/local/lib/python3.10/dist-packages/sklearn/metrics/_classification.py:1344: UndefinedMetricWarning: Precision and F-score are ill-defined and being set to 0.0 in labels with no predicted samples. Use `zero_division` parameter to control this behavior.\n",
            "  _warn_prf(average, modifier, msg_start, len(result))\n"
          ]
        }
      ],
      "source": [
        "y_pred = cnn4.predict(X_test).astype(int)\n",
        "\n",
        "y_scores = cnn4.predict(X_test)\n",
        "\n",
        "print('Accuracy %s' % accuracy_score(y_test, y_pred))\n",
        "\n",
        "print('F1-score %s' % f1_score(y_test, y_pred, average=None))\n",
        "\n",
        "print(classification_report(y_test, y_pred))"
      ]
    },
    {
      "cell_type": "code",
      "execution_count": null,
      "metadata": {
        "id": "SpEIqJdL5Vf1"
      },
      "outputs": [],
      "source": []
    },
    {
      "cell_type": "markdown",
      "metadata": {
        "id": "s0wdguyl5Wwp"
      },
      "source": [
        "## PROVO A BILANCIARE USANDO IL MODELLO MIGLIORE"
      ]
    },
    {
      "cell_type": "code",
      "execution_count": 60,
      "metadata": {
        "id": "xb1C16EP5V0f"
      },
      "outputs": [],
      "source": [
        "from imblearn.combine import SMOTEENN\n",
        "from imblearn.under_sampling import EditedNearestNeighbours\n",
        "\n",
        "SMOTE_ENN = SMOTEENN(enn=EditedNearestNeighbours(sampling_strategy='all'),random_state=42)\n",
        "X_res, y_res = SMOTE_ENN.fit_resample(X_train, y_train)"
      ]
    },
    {
      "cell_type": "code",
      "execution_count": 61,
      "metadata": {
        "id": "QdrEbfQn5V0g",
        "colab": {
          "base_uri": "https://localhost:8080/"
        },
        "outputId": "194b0ef2-e774-4e34-e556-0d17a5c354d5"
      },
      "outputs": [
        {
          "output_type": "stream",
          "name": "stdout",
          "text": [
            "Build model...\n",
            "Model: \"sequential_5\"\n",
            "_________________________________________________________________\n",
            " Layer (type)                Output Shape              Param #   \n",
            "=================================================================\n",
            " embedding_5 (Embedding)     (None, None, 100)         3000000   \n",
            "                                                                 \n",
            " dropout_14 (Dropout)        (None, None, 100)         0         \n",
            "                                                                 \n",
            " conv1d_5 (Conv1D)           (None, None, 70)          350070    \n",
            "                                                                 \n",
            " global_max_pooling1d_3 (Gl  (None, 70)                0         \n",
            " obalMaxPooling1D)                                               \n",
            "                                                                 \n",
            " dense_14 (Dense)            (None, 250)               17750     \n",
            "                                                                 \n",
            " dropout_15 (Dropout)        (None, 250)               0         \n",
            "                                                                 \n",
            " activation_13 (Activation)  (None, 250)               0         \n",
            "                                                                 \n",
            " dense_15 (Dense)            (None, 250)               62750     \n",
            "                                                                 \n",
            " dropout_16 (Dropout)        (None, 250)               0         \n",
            "                                                                 \n",
            " activation_14 (Activation)  (None, 250)               0         \n",
            "                                                                 \n",
            " dense_16 (Dense)            (None, 1)                 251       \n",
            "                                                                 \n",
            " activation_15 (Activation)  (None, 1)                 0         \n",
            "                                                                 \n",
            "=================================================================\n",
            "Total params: 3430821 (13.09 MB)\n",
            "Trainable params: 3430821 (13.09 MB)\n",
            "Non-trainable params: 0 (0.00 Byte)\n",
            "_________________________________________________________________\n"
          ]
        }
      ],
      "source": [
        "print('Build model...')\n",
        "cnn_imb = Sequential()\n",
        "\n",
        "# We start off with an efficient embedding layer which maps our vocab indices\n",
        "# into embedding_dims dimensions\n",
        "cnn_imb.add(Embedding(max_features, embedding_dims))\n",
        "\n",
        "cnn_imb.add(Dropout(0.2))\n",
        "\n",
        "# We add a Convolution1D, which will learn\n",
        "# word group filters of size filter_length:\n",
        "\n",
        "# This layer creates a convolution kernel that is convolved with the layer input\n",
        "# over a single spatial (or temporal) dimension to produce a tensor of outputs\n",
        "cnn_imb.add(Conv1D(filters,\n",
        "                 kernel_size,\n",
        "                 padding='valid',\n",
        "                 activation='relu',\n",
        "                 strides=1, kernel_regularizer=l2(0.01)))\n",
        "\n",
        "# We use max pooling:\n",
        "cnn_imb.add(GlobalMaxPooling1D())\n",
        "\n",
        "# We add a vanilla hidden layer:\n",
        "cnn_imb.add(Dense(hidden_dims, kernel_regularizer=l2(0.01)))\n",
        "cnn_imb.add(Dropout(0.2))\n",
        "cnn_imb.add(Activation('relu'))\n",
        "\n",
        "# We add the second vanilla hidden layer:\n",
        "cnn_imb.add(Dense(hidden_dims, kernel_regularizer=l2(0.01)))\n",
        "cnn_imb.add(Dropout(0.2))\n",
        "cnn_imb.add(Activation('relu'))\n",
        "\n",
        "# We project onto a single unit output layer, and squash it with a sigmoid:\n",
        "cnn_imb.add(Dense(1, kernel_regularizer=l2(0.01)))\n",
        "cnn_imb.add(Activation('sigmoid'))\n",
        "\n",
        "cnn_imb.compile(loss='binary_crossentropy',\n",
        "              optimizer='adam',\n",
        "              metrics=['accuracy'])\n",
        "\n",
        "cnn_imb.summary()"
      ]
    },
    {
      "cell_type": "code",
      "execution_count": 61,
      "metadata": {
        "id": "2rGOo99H5vbh"
      },
      "outputs": [],
      "source": []
    },
    {
      "cell_type": "code",
      "execution_count": 62,
      "metadata": {
        "id": "HjNV3kxt5vuj",
        "colab": {
          "base_uri": "https://localhost:8080/"
        },
        "outputId": "08b2aeff-f366-456e-d8f8-528d1093b22b"
      },
      "outputs": [
        {
          "output_type": "stream",
          "name": "stdout",
          "text": [
            "Epoch 1/20\n",
            "44/44 [==============================] - 149s 3s/step - loss: 2.9727 - accuracy: 0.6690 - val_loss: 1.6971 - val_accuracy: 0.6695\n",
            "Epoch 2/20\n",
            "44/44 [==============================] - 151s 3s/step - loss: 1.2238 - accuracy: 0.6704 - val_loss: 0.8958 - val_accuracy: 0.6695\n",
            "Epoch 3/20\n",
            "44/44 [==============================] - 147s 3s/step - loss: 0.7752 - accuracy: 0.6704 - val_loss: 0.7022 - val_accuracy: 0.6695\n",
            "Epoch 4/20\n",
            "44/44 [==============================] - 167s 4s/step - loss: 0.6660 - accuracy: 0.6704 - val_loss: 0.6504 - val_accuracy: 0.6695\n",
            "Epoch 5/20\n",
            "44/44 [==============================] - 147s 3s/step - loss: 0.5784 - accuracy: 0.7171 - val_loss: 0.6503 - val_accuracy: 0.7034\n",
            "Epoch 6/20\n",
            "44/44 [==============================] - 148s 3s/step - loss: 0.4333 - accuracy: 0.8839 - val_loss: 0.6273 - val_accuracy: 0.7739\n",
            "Epoch 7/20\n",
            "44/44 [==============================] - 147s 3s/step - loss: 0.2818 - accuracy: 0.9608 - val_loss: 0.6195 - val_accuracy: 0.7991\n",
            "Epoch 8/20\n",
            "44/44 [==============================] - 152s 3s/step - loss: 0.2253 - accuracy: 0.9843 - val_loss: 0.6267 - val_accuracy: 0.8258\n",
            "Epoch 9/20\n",
            "44/44 [==============================] - 148s 3s/step - loss: 0.1944 - accuracy: 0.9908 - val_loss: 0.6026 - val_accuracy: 0.8294\n",
            "Epoch 10/20\n",
            "44/44 [==============================] - 149s 3s/step - loss: 0.1782 - accuracy: 0.9953 - val_loss: 0.6005 - val_accuracy: 0.8186\n",
            "Epoch 11/20\n",
            "44/44 [==============================] - 150s 3s/step - loss: 0.1701 - accuracy: 0.9960 - val_loss: 0.5875 - val_accuracy: 0.8323\n",
            "Epoch 12/20\n",
            "44/44 [==============================] - 148s 3s/step - loss: 0.1619 - accuracy: 0.9966 - val_loss: 0.5880 - val_accuracy: 0.8164\n",
            "Epoch 13/20\n",
            "44/44 [==============================] - 151s 3s/step - loss: 0.1574 - accuracy: 0.9984 - val_loss: 0.5849 - val_accuracy: 0.8258\n",
            "Epoch 14/20\n",
            "44/44 [==============================] - 149s 3s/step - loss: 0.1530 - accuracy: 0.9982 - val_loss: 0.5715 - val_accuracy: 0.8236\n",
            "Epoch 15/20\n",
            "44/44 [==============================] - 148s 3s/step - loss: 0.1502 - accuracy: 0.9980 - val_loss: 0.5938 - val_accuracy: 0.8402\n",
            "Epoch 16/20\n",
            "44/44 [==============================] - 149s 3s/step - loss: 0.1454 - accuracy: 0.9986 - val_loss: 0.5657 - val_accuracy: 0.8287\n",
            "Epoch 17/20\n",
            "44/44 [==============================] - 150s 3s/step - loss: 0.1422 - accuracy: 0.9987 - val_loss: 0.5662 - val_accuracy: 0.8265\n",
            "Epoch 18/20\n",
            "44/44 [==============================] - 150s 3s/step - loss: 0.1397 - accuracy: 0.9987 - val_loss: 0.5641 - val_accuracy: 0.8337\n",
            "Epoch 19/20\n",
            "44/44 [==============================] - 149s 3s/step - loss: 0.1368 - accuracy: 0.9989 - val_loss: 0.5699 - val_accuracy: 0.8387\n",
            "Epoch 20/20\n",
            "44/44 [==============================] - 149s 3s/step - loss: 0.1355 - accuracy: 0.9986 - val_loss: 0.5551 - val_accuracy: 0.8323\n"
          ]
        }
      ],
      "source": [
        "epochs = 20\n",
        "cnn_1_imb=cnn_imb.fit(X_train, y_train,\n",
        "          batch_size=128,\n",
        "          epochs=epochs,\n",
        "          shuffle=True,\n",
        "          validation_split=0.2)"
      ]
    },
    {
      "cell_type": "code",
      "execution_count": 63,
      "metadata": {
        "id": "zkNrlUGL5vuk",
        "colab": {
          "base_uri": "https://localhost:8080/"
        },
        "outputId": "09634154-1208-4759-e934-95cc4ec30bab"
      },
      "outputs": [
        {
          "output_type": "stream",
          "name": "stdout",
          "text": [
            "94/94 [==============================] - 20s 213ms/step\n"
          ]
        }
      ],
      "source": [
        "predictions = cnn_imb.predict(X_test)"
      ]
    },
    {
      "cell_type": "code",
      "execution_count": 64,
      "metadata": {
        "id": "JzyAM3Zz5vul",
        "colab": {
          "base_uri": "https://localhost:8080/",
          "height": 887
        },
        "outputId": "c965f9b7-bed8-4667-80b5-2d63e536081e"
      },
      "outputs": [
        {
          "output_type": "display_data",
          "data": {
            "text/plain": [
              "<Figure size 640x480 with 1 Axes>"
            ],
            "image/png": "[encoded data removed]"
          },
          "metadata": {}
        },
        {
          "output_type": "display_data",
          "data": {
            "text/plain": [
              "<Figure size 640x480 with 1 Axes>"
            ],
            "image/png": "[encoded data removed]"
          },
          "metadata": {}
        }
      ],
      "source": [
        "# Plot train/test loss and accuracy\n",
        "plotLoss(cnn_1_imb)"
      ]
    },
    {
      "cell_type": "code",
      "execution_count": 65,
      "metadata": {
        "id": "YLa9U6hQ5vul",
        "colab": {
          "base_uri": "https://localhost:8080/"
        },
        "outputId": "7176cc03-8bbe-4925-82ee-47519f58de0a"
      },
      "outputs": [
        {
          "output_type": "stream",
          "name": "stdout",
          "text": [
            "Training Accuracy: 0.9659\n",
            "Testing Accuracy:  0.8398\n"
          ]
        }
      ],
      "source": [
        "# Find train and test f1\n",
        "loss, accuracy = cnn_imb.evaluate(X_train, y_train, verbose=False)\n",
        "print(\"Training Accuracy: {:.4f}\".format(accuracy))\n",
        "loss, accuracy = cnn_imb.evaluate(X_test, y_test, verbose=False)\n",
        "print(\"Testing Accuracy:  {:.4f}\".format(accuracy))"
      ]
    },
    {
      "cell_type": "code",
      "execution_count": 66,
      "metadata": {
        "id": "MELWyX9M5vul",
        "colab": {
          "base_uri": "https://localhost:8080/"
        },
        "outputId": "c218358a-289d-40ae-f201-9c57378ab61c"
      },
      "outputs": [
        {
          "output_type": "stream",
          "name": "stdout",
          "text": [
            "94/94 [==============================] - 20s 211ms/step\n",
            "94/94 [==============================] - 21s 222ms/step\n",
            "Accuracy 0.6704736311723212\n",
            "F1-score [0.80273477 0.        ]\n",
            "              precision    recall  f1-score   support\n",
            "\n",
            "           0       0.67      1.00      0.80      1996\n",
            "           1       0.00      0.00      0.00       981\n",
            "\n",
            "    accuracy                           0.67      2977\n",
            "   macro avg       0.34      0.50      0.40      2977\n",
            "weighted avg       0.45      0.67      0.54      2977\n",
            "\n"
          ]
        },
        {
          "output_type": "stream",
          "name": "stderr",
          "text": [
            "/usr/local/lib/python3.10/dist-packages/sklearn/metrics/_classification.py:1344: UndefinedMetricWarning: Precision and F-score are ill-defined and being set to 0.0 in labels with no predicted samples. Use `zero_division` parameter to control this behavior.\n",
            "  _warn_prf(average, modifier, msg_start, len(result))\n",
            "/usr/local/lib/python3.10/dist-packages/sklearn/metrics/_classification.py:1344: UndefinedMetricWarning: Precision and F-score are ill-defined and being set to 0.0 in labels with no predicted samples. Use `zero_division` parameter to control this behavior.\n",
            "  _warn_prf(average, modifier, msg_start, len(result))\n",
            "/usr/local/lib/python3.10/dist-packages/sklearn/metrics/_classification.py:1344: UndefinedMetricWarning: Precision and F-score are ill-defined and being set to 0.0 in labels with no predicted samples. Use `zero_division` parameter to control this behavior.\n",
            "  _warn_prf(average, modifier, msg_start, len(result))\n"
          ]
        }
      ],
      "source": [
        "y_pred = cnn_imb.predict(X_test).astype(int)\n",
        "\n",
        "y_scores = cnn_imb.predict(X_test)\n",
        "\n",
        "print('Accuracy %s' % accuracy_score(y_test, y_pred))\n",
        "\n",
        "print('F1-score %s' % f1_score(y_test, y_pred, average=None))\n",
        "\n",
        "print(classification_report(y_test, y_pred))"
      ]
    },
    {
      "cell_type": "code",
      "source": [],
      "metadata": {
        "id": "WZLue6DYjSrW"
      },
      "execution_count": null,
      "outputs": []
    }
  ],
  "metadata": {
    "colab": {
      "collapsed_sections": [
        "jvyZwdKhUutK"
      ],
      "provenance": []
    },
    "kernelspec": {
      "display_name": "Python 3",
      "name": "python3"
    },
    "language_info": {
      "name": "python"
    }
  },
  "nbformat": 4,
  "nbformat_minor": 0
}